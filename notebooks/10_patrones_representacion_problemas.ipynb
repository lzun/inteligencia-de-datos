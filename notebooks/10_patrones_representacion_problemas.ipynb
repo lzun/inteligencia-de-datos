{
  "nbformat": 4,
  "nbformat_minor": 0,
  "metadata": {
    "colab": {
      "provenance": [],
      "collapsed_sections": [
        "58WYB54dIo8M"
      ]
    },
    "kernelspec": {
      "name": "python3",
      "display_name": "Python 3"
    },
    "language_info": {
      "name": "python"
    }
  },
  "cells": [
    {
      "cell_type": "markdown",
      "source": [
        "# Práctica 10: Patrones de Representación de Problemas\n",
        "\n",
        "Inteligencia de Datos\n",
        "\n",
        "Universidad Iberoamericana Ciudad de México\n",
        "\n",
        "Creado por: Luis Norberto Zúñiga Morales, inspirado en el libro *Machine Learning Design Patterns*."
      ],
      "metadata": {
        "id": "vwzBcn1qBFGt"
      }
    },
    {
      "cell_type": "markdown",
      "source": [
        "## Reframing"
      ],
      "metadata": {
        "id": "58WYB54dIo8M"
      }
    },
    {
      "cell_type": "code",
      "source": [
        "import pandas as pd\n",
        "import numpy as np\n",
        "import matplotlib.pyplot as plt\n",
        "import seaborn as sns"
      ],
      "metadata": {
        "id": "p682SAaINWRQ"
      },
      "execution_count": null,
      "outputs": []
    },
    {
      "cell_type": "markdown",
      "source": [
        "Vamos a empezar importando nuestros datos en un `DataFrame` de pandas y concatenando los dos conjuntos en uno solo."
      ],
      "metadata": {
        "id": "vJ5kGTqZIl6-"
      }
    },
    {
      "cell_type": "code",
      "source": [
        "df_train = pd.read_csv('babyweight_train.csv')\n",
        "df_val = pd.read_csv('babyweight_eval.csv')"
      ],
      "metadata": {
        "id": "-3waIMo2Ng7d"
      },
      "execution_count": null,
      "outputs": []
    },
    {
      "cell_type": "code",
      "source": [
        "df = pd.concat([df_train, df_val])"
      ],
      "metadata": {
        "id": "riwCWOVS8Wqj"
      },
      "execution_count": null,
      "outputs": []
    },
    {
      "cell_type": "code",
      "source": [
        "df.head()"
      ],
      "metadata": {
        "colab": {
          "base_uri": "https://localhost:8080/",
          "height": 206
        },
        "id": "zWJF7ezk8na7",
        "outputId": "51a24f04-9c1a-4dcd-8454-1534e8fe837c"
      },
      "execution_count": null,
      "outputs": [
        {
          "output_type": "execute_result",
          "data": {
            "text/plain": [
              "   weight_pounds  is_male  mother_age  plurality  gestation_weeks  mother_race\n",
              "0       7.749249    False          12  Single(1)               40          1.0\n",
              "1       7.561856     True          12  Single(1)               40          2.0\n",
              "2       7.187070    False          12  Single(1)               34          3.0\n",
              "3       6.375769     True          12  Single(1)               36          2.0\n",
              "4       7.936641    False          12  Single(1)               35          NaN"
            ],
            "text/html": [
              "\n",
              "  <div id=\"df-e9ba4298-e139-4397-a703-17dba7fa5d26\" class=\"colab-df-container\">\n",
              "    <div>\n",
              "<style scoped>\n",
              "    .dataframe tbody tr th:only-of-type {\n",
              "        vertical-align: middle;\n",
              "    }\n",
              "\n",
              "    .dataframe tbody tr th {\n",
              "        vertical-align: top;\n",
              "    }\n",
              "\n",
              "    .dataframe thead th {\n",
              "        text-align: right;\n",
              "    }\n",
              "</style>\n",
              "<table border=\"1\" class=\"dataframe\">\n",
              "  <thead>\n",
              "    <tr style=\"text-align: right;\">\n",
              "      <th></th>\n",
              "      <th>weight_pounds</th>\n",
              "      <th>is_male</th>\n",
              "      <th>mother_age</th>\n",
              "      <th>plurality</th>\n",
              "      <th>gestation_weeks</th>\n",
              "      <th>mother_race</th>\n",
              "    </tr>\n",
              "  </thead>\n",
              "  <tbody>\n",
              "    <tr>\n",
              "      <th>0</th>\n",
              "      <td>7.749249</td>\n",
              "      <td>False</td>\n",
              "      <td>12</td>\n",
              "      <td>Single(1)</td>\n",
              "      <td>40</td>\n",
              "      <td>1.0</td>\n",
              "    </tr>\n",
              "    <tr>\n",
              "      <th>1</th>\n",
              "      <td>7.561856</td>\n",
              "      <td>True</td>\n",
              "      <td>12</td>\n",
              "      <td>Single(1)</td>\n",
              "      <td>40</td>\n",
              "      <td>2.0</td>\n",
              "    </tr>\n",
              "    <tr>\n",
              "      <th>2</th>\n",
              "      <td>7.187070</td>\n",
              "      <td>False</td>\n",
              "      <td>12</td>\n",
              "      <td>Single(1)</td>\n",
              "      <td>34</td>\n",
              "      <td>3.0</td>\n",
              "    </tr>\n",
              "    <tr>\n",
              "      <th>3</th>\n",
              "      <td>6.375769</td>\n",
              "      <td>True</td>\n",
              "      <td>12</td>\n",
              "      <td>Single(1)</td>\n",
              "      <td>36</td>\n",
              "      <td>2.0</td>\n",
              "    </tr>\n",
              "    <tr>\n",
              "      <th>4</th>\n",
              "      <td>7.936641</td>\n",
              "      <td>False</td>\n",
              "      <td>12</td>\n",
              "      <td>Single(1)</td>\n",
              "      <td>35</td>\n",
              "      <td>NaN</td>\n",
              "    </tr>\n",
              "  </tbody>\n",
              "</table>\n",
              "</div>\n",
              "    <div class=\"colab-df-buttons\">\n",
              "\n",
              "  <div class=\"colab-df-container\">\n",
              "    <button class=\"colab-df-convert\" onclick=\"convertToInteractive('df-e9ba4298-e139-4397-a703-17dba7fa5d26')\"\n",
              "            title=\"Convert this dataframe to an interactive table.\"\n",
              "            style=\"display:none;\">\n",
              "\n",
              "  <svg xmlns=\"http://www.w3.org/2000/svg\" height=\"24px\" viewBox=\"0 -960 960 960\">\n",
              "    <path d=\"M120-120v-720h720v720H120Zm60-500h600v-160H180v160Zm220 220h160v-160H400v160Zm0 220h160v-160H400v160ZM180-400h160v-160H180v160Zm440 0h160v-160H620v160ZM180-180h160v-160H180v160Zm440 0h160v-160H620v160Z\"/>\n",
              "  </svg>\n",
              "    </button>\n",
              "\n",
              "  <style>\n",
              "    .colab-df-container {\n",
              "      display:flex;\n",
              "      gap: 12px;\n",
              "    }\n",
              "\n",
              "    .colab-df-convert {\n",
              "      background-color: #E8F0FE;\n",
              "      border: none;\n",
              "      border-radius: 50%;\n",
              "      cursor: pointer;\n",
              "      display: none;\n",
              "      fill: #1967D2;\n",
              "      height: 32px;\n",
              "      padding: 0 0 0 0;\n",
              "      width: 32px;\n",
              "    }\n",
              "\n",
              "    .colab-df-convert:hover {\n",
              "      background-color: #E2EBFA;\n",
              "      box-shadow: 0px 1px 2px rgba(60, 64, 67, 0.3), 0px 1px 3px 1px rgba(60, 64, 67, 0.15);\n",
              "      fill: #174EA6;\n",
              "    }\n",
              "\n",
              "    .colab-df-buttons div {\n",
              "      margin-bottom: 4px;\n",
              "    }\n",
              "\n",
              "    [theme=dark] .colab-df-convert {\n",
              "      background-color: #3B4455;\n",
              "      fill: #D2E3FC;\n",
              "    }\n",
              "\n",
              "    [theme=dark] .colab-df-convert:hover {\n",
              "      background-color: #434B5C;\n",
              "      box-shadow: 0px 1px 3px 1px rgba(0, 0, 0, 0.15);\n",
              "      filter: drop-shadow(0px 1px 2px rgba(0, 0, 0, 0.3));\n",
              "      fill: #FFFFFF;\n",
              "    }\n",
              "  </style>\n",
              "\n",
              "    <script>\n",
              "      const buttonEl =\n",
              "        document.querySelector('#df-e9ba4298-e139-4397-a703-17dba7fa5d26 button.colab-df-convert');\n",
              "      buttonEl.style.display =\n",
              "        google.colab.kernel.accessAllowed ? 'block' : 'none';\n",
              "\n",
              "      async function convertToInteractive(key) {\n",
              "        const element = document.querySelector('#df-e9ba4298-e139-4397-a703-17dba7fa5d26');\n",
              "        const dataTable =\n",
              "          await google.colab.kernel.invokeFunction('convertToInteractive',\n",
              "                                                    [key], {});\n",
              "        if (!dataTable) return;\n",
              "\n",
              "        const docLinkHtml = 'Like what you see? Visit the ' +\n",
              "          '<a target=\"_blank\" href=https://colab.research.google.com/notebooks/data_table.ipynb>data table notebook</a>'\n",
              "          + ' to learn more about interactive tables.';\n",
              "        element.innerHTML = '';\n",
              "        dataTable['output_type'] = 'display_data';\n",
              "        await google.colab.output.renderOutput(dataTable, element);\n",
              "        const docLink = document.createElement('div');\n",
              "        docLink.innerHTML = docLinkHtml;\n",
              "        element.appendChild(docLink);\n",
              "      }\n",
              "    </script>\n",
              "  </div>\n",
              "\n",
              "\n",
              "<div id=\"df-c2f3f12d-ec10-447f-a1c7-701cddc3f6db\">\n",
              "  <button class=\"colab-df-quickchart\" onclick=\"quickchart('df-c2f3f12d-ec10-447f-a1c7-701cddc3f6db')\"\n",
              "            title=\"Suggest charts\"\n",
              "            style=\"display:none;\">\n",
              "\n",
              "<svg xmlns=\"http://www.w3.org/2000/svg\" height=\"24px\"viewBox=\"0 0 24 24\"\n",
              "     width=\"24px\">\n",
              "    <g>\n",
              "        <path d=\"M19 3H5c-1.1 0-2 .9-2 2v14c0 1.1.9 2 2 2h14c1.1 0 2-.9 2-2V5c0-1.1-.9-2-2-2zM9 17H7v-7h2v7zm4 0h-2V7h2v10zm4 0h-2v-4h2v4z\"/>\n",
              "    </g>\n",
              "</svg>\n",
              "  </button>\n",
              "\n",
              "<style>\n",
              "  .colab-df-quickchart {\n",
              "      --bg-color: #E8F0FE;\n",
              "      --fill-color: #1967D2;\n",
              "      --hover-bg-color: #E2EBFA;\n",
              "      --hover-fill-color: #174EA6;\n",
              "      --disabled-fill-color: #AAA;\n",
              "      --disabled-bg-color: #DDD;\n",
              "  }\n",
              "\n",
              "  [theme=dark] .colab-df-quickchart {\n",
              "      --bg-color: #3B4455;\n",
              "      --fill-color: #D2E3FC;\n",
              "      --hover-bg-color: #434B5C;\n",
              "      --hover-fill-color: #FFFFFF;\n",
              "      --disabled-bg-color: #3B4455;\n",
              "      --disabled-fill-color: #666;\n",
              "  }\n",
              "\n",
              "  .colab-df-quickchart {\n",
              "    background-color: var(--bg-color);\n",
              "    border: none;\n",
              "    border-radius: 50%;\n",
              "    cursor: pointer;\n",
              "    display: none;\n",
              "    fill: var(--fill-color);\n",
              "    height: 32px;\n",
              "    padding: 0;\n",
              "    width: 32px;\n",
              "  }\n",
              "\n",
              "  .colab-df-quickchart:hover {\n",
              "    background-color: var(--hover-bg-color);\n",
              "    box-shadow: 0 1px 2px rgba(60, 64, 67, 0.3), 0 1px 3px 1px rgba(60, 64, 67, 0.15);\n",
              "    fill: var(--button-hover-fill-color);\n",
              "  }\n",
              "\n",
              "  .colab-df-quickchart-complete:disabled,\n",
              "  .colab-df-quickchart-complete:disabled:hover {\n",
              "    background-color: var(--disabled-bg-color);\n",
              "    fill: var(--disabled-fill-color);\n",
              "    box-shadow: none;\n",
              "  }\n",
              "\n",
              "  .colab-df-spinner {\n",
              "    border: 2px solid var(--fill-color);\n",
              "    border-color: transparent;\n",
              "    border-bottom-color: var(--fill-color);\n",
              "    animation:\n",
              "      spin 1s steps(1) infinite;\n",
              "  }\n",
              "\n",
              "  @keyframes spin {\n",
              "    0% {\n",
              "      border-color: transparent;\n",
              "      border-bottom-color: var(--fill-color);\n",
              "      border-left-color: var(--fill-color);\n",
              "    }\n",
              "    20% {\n",
              "      border-color: transparent;\n",
              "      border-left-color: var(--fill-color);\n",
              "      border-top-color: var(--fill-color);\n",
              "    }\n",
              "    30% {\n",
              "      border-color: transparent;\n",
              "      border-left-color: var(--fill-color);\n",
              "      border-top-color: var(--fill-color);\n",
              "      border-right-color: var(--fill-color);\n",
              "    }\n",
              "    40% {\n",
              "      border-color: transparent;\n",
              "      border-right-color: var(--fill-color);\n",
              "      border-top-color: var(--fill-color);\n",
              "    }\n",
              "    60% {\n",
              "      border-color: transparent;\n",
              "      border-right-color: var(--fill-color);\n",
              "    }\n",
              "    80% {\n",
              "      border-color: transparent;\n",
              "      border-right-color: var(--fill-color);\n",
              "      border-bottom-color: var(--fill-color);\n",
              "    }\n",
              "    90% {\n",
              "      border-color: transparent;\n",
              "      border-bottom-color: var(--fill-color);\n",
              "    }\n",
              "  }\n",
              "</style>\n",
              "\n",
              "  <script>\n",
              "    async function quickchart(key) {\n",
              "      const quickchartButtonEl =\n",
              "        document.querySelector('#' + key + ' button');\n",
              "      quickchartButtonEl.disabled = true;  // To prevent multiple clicks.\n",
              "      quickchartButtonEl.classList.add('colab-df-spinner');\n",
              "      try {\n",
              "        const charts = await google.colab.kernel.invokeFunction(\n",
              "            'suggestCharts', [key], {});\n",
              "      } catch (error) {\n",
              "        console.error('Error during call to suggestCharts:', error);\n",
              "      }\n",
              "      quickchartButtonEl.classList.remove('colab-df-spinner');\n",
              "      quickchartButtonEl.classList.add('colab-df-quickchart-complete');\n",
              "    }\n",
              "    (() => {\n",
              "      let quickchartButtonEl =\n",
              "        document.querySelector('#df-c2f3f12d-ec10-447f-a1c7-701cddc3f6db button');\n",
              "      quickchartButtonEl.style.display =\n",
              "        google.colab.kernel.accessAllowed ? 'block' : 'none';\n",
              "    })();\n",
              "  </script>\n",
              "</div>\n",
              "\n",
              "    </div>\n",
              "  </div>\n"
            ],
            "application/vnd.google.colaboratory.intrinsic+json": {
              "type": "dataframe",
              "variable_name": "df"
            }
          },
          "metadata": {},
          "execution_count": 4
        }
      ]
    },
    {
      "cell_type": "markdown",
      "source": [
        "Ahora, vamos a filtrar los datos según las siguientes condiciones:\n",
        "\n",
        "- `weight_pounds` no es nulo\n",
        "- `is_male` = true\n",
        "- `gestation_weeks` = 38\n",
        "- `mother_age` = 28\n",
        "- `mother_race` = 1\n",
        "- `plurality` = 1"
      ],
      "metadata": {
        "id": "9Ar2b7VFFcD7"
      }
    },
    {
      "cell_type": "markdown",
      "source": [
        "Vamos a realizar el query usando el método `query` de pandas, como argumento le pasamos las instrucciones del query:"
      ],
      "metadata": {
        "id": "MWuOeCLxC6Ey"
      }
    },
    {
      "cell_type": "code",
      "source": [
        "filtered_df = df.query('weight_pounds.notna() & is_male==True & gestation_weeks == 38 & mother_age == 28 & mother_race == 1 & plurality.str.startswith(\"Single(1)\").values')"
      ],
      "metadata": {
        "id": "Hpq4lzrUAbDB"
      },
      "execution_count": null,
      "outputs": []
    },
    {
      "cell_type": "code",
      "source": [
        "filtered_df.head()"
      ],
      "metadata": {
        "colab": {
          "base_uri": "https://localhost:8080/",
          "height": 206
        },
        "id": "Sj78YcVe_vL0",
        "outputId": "76f31024-677c-4951-b756-d373d1b13af6"
      },
      "execution_count": null,
      "outputs": [
        {
          "output_type": "execute_result",
          "data": {
            "text/plain": [
              "        weight_pounds  is_male  mother_age  plurality  gestation_weeks  \\\n",
              "137141       9.299098     True          28  Single(1)               38   \n",
              "137224       6.900469     True          28  Single(1)               38   \n",
              "137257       5.765088     True          28  Single(1)               38   \n",
              "137285       6.166329     True          28  Single(1)               38   \n",
              "137364       7.561856     True          28  Single(1)               38   \n",
              "\n",
              "        mother_race  \n",
              "137141          1.0  \n",
              "137224          1.0  \n",
              "137257          1.0  \n",
              "137285          1.0  \n",
              "137364          1.0  "
            ],
            "text/html": [
              "\n",
              "  <div id=\"df-a6e5b3fe-8036-4840-8490-808f7a9b405d\" class=\"colab-df-container\">\n",
              "    <div>\n",
              "<style scoped>\n",
              "    .dataframe tbody tr th:only-of-type {\n",
              "        vertical-align: middle;\n",
              "    }\n",
              "\n",
              "    .dataframe tbody tr th {\n",
              "        vertical-align: top;\n",
              "    }\n",
              "\n",
              "    .dataframe thead th {\n",
              "        text-align: right;\n",
              "    }\n",
              "</style>\n",
              "<table border=\"1\" class=\"dataframe\">\n",
              "  <thead>\n",
              "    <tr style=\"text-align: right;\">\n",
              "      <th></th>\n",
              "      <th>weight_pounds</th>\n",
              "      <th>is_male</th>\n",
              "      <th>mother_age</th>\n",
              "      <th>plurality</th>\n",
              "      <th>gestation_weeks</th>\n",
              "      <th>mother_race</th>\n",
              "    </tr>\n",
              "  </thead>\n",
              "  <tbody>\n",
              "    <tr>\n",
              "      <th>137141</th>\n",
              "      <td>9.299098</td>\n",
              "      <td>True</td>\n",
              "      <td>28</td>\n",
              "      <td>Single(1)</td>\n",
              "      <td>38</td>\n",
              "      <td>1.0</td>\n",
              "    </tr>\n",
              "    <tr>\n",
              "      <th>137224</th>\n",
              "      <td>6.900469</td>\n",
              "      <td>True</td>\n",
              "      <td>28</td>\n",
              "      <td>Single(1)</td>\n",
              "      <td>38</td>\n",
              "      <td>1.0</td>\n",
              "    </tr>\n",
              "    <tr>\n",
              "      <th>137257</th>\n",
              "      <td>5.765088</td>\n",
              "      <td>True</td>\n",
              "      <td>28</td>\n",
              "      <td>Single(1)</td>\n",
              "      <td>38</td>\n",
              "      <td>1.0</td>\n",
              "    </tr>\n",
              "    <tr>\n",
              "      <th>137285</th>\n",
              "      <td>6.166329</td>\n",
              "      <td>True</td>\n",
              "      <td>28</td>\n",
              "      <td>Single(1)</td>\n",
              "      <td>38</td>\n",
              "      <td>1.0</td>\n",
              "    </tr>\n",
              "    <tr>\n",
              "      <th>137364</th>\n",
              "      <td>7.561856</td>\n",
              "      <td>True</td>\n",
              "      <td>28</td>\n",
              "      <td>Single(1)</td>\n",
              "      <td>38</td>\n",
              "      <td>1.0</td>\n",
              "    </tr>\n",
              "  </tbody>\n",
              "</table>\n",
              "</div>\n",
              "    <div class=\"colab-df-buttons\">\n",
              "\n",
              "  <div class=\"colab-df-container\">\n",
              "    <button class=\"colab-df-convert\" onclick=\"convertToInteractive('df-a6e5b3fe-8036-4840-8490-808f7a9b405d')\"\n",
              "            title=\"Convert this dataframe to an interactive table.\"\n",
              "            style=\"display:none;\">\n",
              "\n",
              "  <svg xmlns=\"http://www.w3.org/2000/svg\" height=\"24px\" viewBox=\"0 -960 960 960\">\n",
              "    <path d=\"M120-120v-720h720v720H120Zm60-500h600v-160H180v160Zm220 220h160v-160H400v160Zm0 220h160v-160H400v160ZM180-400h160v-160H180v160Zm440 0h160v-160H620v160ZM180-180h160v-160H180v160Zm440 0h160v-160H620v160Z\"/>\n",
              "  </svg>\n",
              "    </button>\n",
              "\n",
              "  <style>\n",
              "    .colab-df-container {\n",
              "      display:flex;\n",
              "      gap: 12px;\n",
              "    }\n",
              "\n",
              "    .colab-df-convert {\n",
              "      background-color: #E8F0FE;\n",
              "      border: none;\n",
              "      border-radius: 50%;\n",
              "      cursor: pointer;\n",
              "      display: none;\n",
              "      fill: #1967D2;\n",
              "      height: 32px;\n",
              "      padding: 0 0 0 0;\n",
              "      width: 32px;\n",
              "    }\n",
              "\n",
              "    .colab-df-convert:hover {\n",
              "      background-color: #E2EBFA;\n",
              "      box-shadow: 0px 1px 2px rgba(60, 64, 67, 0.3), 0px 1px 3px 1px rgba(60, 64, 67, 0.15);\n",
              "      fill: #174EA6;\n",
              "    }\n",
              "\n",
              "    .colab-df-buttons div {\n",
              "      margin-bottom: 4px;\n",
              "    }\n",
              "\n",
              "    [theme=dark] .colab-df-convert {\n",
              "      background-color: #3B4455;\n",
              "      fill: #D2E3FC;\n",
              "    }\n",
              "\n",
              "    [theme=dark] .colab-df-convert:hover {\n",
              "      background-color: #434B5C;\n",
              "      box-shadow: 0px 1px 3px 1px rgba(0, 0, 0, 0.15);\n",
              "      filter: drop-shadow(0px 1px 2px rgba(0, 0, 0, 0.3));\n",
              "      fill: #FFFFFF;\n",
              "    }\n",
              "  </style>\n",
              "\n",
              "    <script>\n",
              "      const buttonEl =\n",
              "        document.querySelector('#df-a6e5b3fe-8036-4840-8490-808f7a9b405d button.colab-df-convert');\n",
              "      buttonEl.style.display =\n",
              "        google.colab.kernel.accessAllowed ? 'block' : 'none';\n",
              "\n",
              "      async function convertToInteractive(key) {\n",
              "        const element = document.querySelector('#df-a6e5b3fe-8036-4840-8490-808f7a9b405d');\n",
              "        const dataTable =\n",
              "          await google.colab.kernel.invokeFunction('convertToInteractive',\n",
              "                                                    [key], {});\n",
              "        if (!dataTable) return;\n",
              "\n",
              "        const docLinkHtml = 'Like what you see? Visit the ' +\n",
              "          '<a target=\"_blank\" href=https://colab.research.google.com/notebooks/data_table.ipynb>data table notebook</a>'\n",
              "          + ' to learn more about interactive tables.';\n",
              "        element.innerHTML = '';\n",
              "        dataTable['output_type'] = 'display_data';\n",
              "        await google.colab.output.renderOutput(dataTable, element);\n",
              "        const docLink = document.createElement('div');\n",
              "        docLink.innerHTML = docLinkHtml;\n",
              "        element.appendChild(docLink);\n",
              "      }\n",
              "    </script>\n",
              "  </div>\n",
              "\n",
              "\n",
              "<div id=\"df-06bc9df8-3dd1-4c6b-9975-2e3aeac63179\">\n",
              "  <button class=\"colab-df-quickchart\" onclick=\"quickchart('df-06bc9df8-3dd1-4c6b-9975-2e3aeac63179')\"\n",
              "            title=\"Suggest charts\"\n",
              "            style=\"display:none;\">\n",
              "\n",
              "<svg xmlns=\"http://www.w3.org/2000/svg\" height=\"24px\"viewBox=\"0 0 24 24\"\n",
              "     width=\"24px\">\n",
              "    <g>\n",
              "        <path d=\"M19 3H5c-1.1 0-2 .9-2 2v14c0 1.1.9 2 2 2h14c1.1 0 2-.9 2-2V5c0-1.1-.9-2-2-2zM9 17H7v-7h2v7zm4 0h-2V7h2v10zm4 0h-2v-4h2v4z\"/>\n",
              "    </g>\n",
              "</svg>\n",
              "  </button>\n",
              "\n",
              "<style>\n",
              "  .colab-df-quickchart {\n",
              "      --bg-color: #E8F0FE;\n",
              "      --fill-color: #1967D2;\n",
              "      --hover-bg-color: #E2EBFA;\n",
              "      --hover-fill-color: #174EA6;\n",
              "      --disabled-fill-color: #AAA;\n",
              "      --disabled-bg-color: #DDD;\n",
              "  }\n",
              "\n",
              "  [theme=dark] .colab-df-quickchart {\n",
              "      --bg-color: #3B4455;\n",
              "      --fill-color: #D2E3FC;\n",
              "      --hover-bg-color: #434B5C;\n",
              "      --hover-fill-color: #FFFFFF;\n",
              "      --disabled-bg-color: #3B4455;\n",
              "      --disabled-fill-color: #666;\n",
              "  }\n",
              "\n",
              "  .colab-df-quickchart {\n",
              "    background-color: var(--bg-color);\n",
              "    border: none;\n",
              "    border-radius: 50%;\n",
              "    cursor: pointer;\n",
              "    display: none;\n",
              "    fill: var(--fill-color);\n",
              "    height: 32px;\n",
              "    padding: 0;\n",
              "    width: 32px;\n",
              "  }\n",
              "\n",
              "  .colab-df-quickchart:hover {\n",
              "    background-color: var(--hover-bg-color);\n",
              "    box-shadow: 0 1px 2px rgba(60, 64, 67, 0.3), 0 1px 3px 1px rgba(60, 64, 67, 0.15);\n",
              "    fill: var(--button-hover-fill-color);\n",
              "  }\n",
              "\n",
              "  .colab-df-quickchart-complete:disabled,\n",
              "  .colab-df-quickchart-complete:disabled:hover {\n",
              "    background-color: var(--disabled-bg-color);\n",
              "    fill: var(--disabled-fill-color);\n",
              "    box-shadow: none;\n",
              "  }\n",
              "\n",
              "  .colab-df-spinner {\n",
              "    border: 2px solid var(--fill-color);\n",
              "    border-color: transparent;\n",
              "    border-bottom-color: var(--fill-color);\n",
              "    animation:\n",
              "      spin 1s steps(1) infinite;\n",
              "  }\n",
              "\n",
              "  @keyframes spin {\n",
              "    0% {\n",
              "      border-color: transparent;\n",
              "      border-bottom-color: var(--fill-color);\n",
              "      border-left-color: var(--fill-color);\n",
              "    }\n",
              "    20% {\n",
              "      border-color: transparent;\n",
              "      border-left-color: var(--fill-color);\n",
              "      border-top-color: var(--fill-color);\n",
              "    }\n",
              "    30% {\n",
              "      border-color: transparent;\n",
              "      border-left-color: var(--fill-color);\n",
              "      border-top-color: var(--fill-color);\n",
              "      border-right-color: var(--fill-color);\n",
              "    }\n",
              "    40% {\n",
              "      border-color: transparent;\n",
              "      border-right-color: var(--fill-color);\n",
              "      border-top-color: var(--fill-color);\n",
              "    }\n",
              "    60% {\n",
              "      border-color: transparent;\n",
              "      border-right-color: var(--fill-color);\n",
              "    }\n",
              "    80% {\n",
              "      border-color: transparent;\n",
              "      border-right-color: var(--fill-color);\n",
              "      border-bottom-color: var(--fill-color);\n",
              "    }\n",
              "    90% {\n",
              "      border-color: transparent;\n",
              "      border-bottom-color: var(--fill-color);\n",
              "    }\n",
              "  }\n",
              "</style>\n",
              "\n",
              "  <script>\n",
              "    async function quickchart(key) {\n",
              "      const quickchartButtonEl =\n",
              "        document.querySelector('#' + key + ' button');\n",
              "      quickchartButtonEl.disabled = true;  // To prevent multiple clicks.\n",
              "      quickchartButtonEl.classList.add('colab-df-spinner');\n",
              "      try {\n",
              "        const charts = await google.colab.kernel.invokeFunction(\n",
              "            'suggestCharts', [key], {});\n",
              "      } catch (error) {\n",
              "        console.error('Error during call to suggestCharts:', error);\n",
              "      }\n",
              "      quickchartButtonEl.classList.remove('colab-df-spinner');\n",
              "      quickchartButtonEl.classList.add('colab-df-quickchart-complete');\n",
              "    }\n",
              "    (() => {\n",
              "      let quickchartButtonEl =\n",
              "        document.querySelector('#df-06bc9df8-3dd1-4c6b-9975-2e3aeac63179 button');\n",
              "      quickchartButtonEl.style.display =\n",
              "        google.colab.kernel.accessAllowed ? 'block' : 'none';\n",
              "    })();\n",
              "  </script>\n",
              "</div>\n",
              "\n",
              "    </div>\n",
              "  </div>\n"
            ],
            "application/vnd.google.colaboratory.intrinsic+json": {
              "type": "dataframe",
              "variable_name": "filtered_df",
              "summary": "{\n  \"name\": \"filtered_df\",\n  \"rows\": 917,\n  \"fields\": [\n    {\n      \"column\": \"weight_pounds\",\n      \"properties\": {\n        \"dtype\": \"number\",\n        \"std\": 0.9966250852904913,\n        \"min\": 4.5635688234,\n        \"max\": 11.49931158592,\n        \"num_unique_values\": 318,\n        \"samples\": [\n          6.937947385139999,\n          5.3131405142000006,\n          7.14959115666\n        ],\n        \"semantic_type\": \"\",\n        \"description\": \"\"\n      }\n    },\n    {\n      \"column\": \"is_male\",\n      \"properties\": {\n        \"dtype\": \"boolean\",\n        \"num_unique_values\": 1,\n        \"samples\": [\n          true\n        ],\n        \"semantic_type\": \"\",\n        \"description\": \"\"\n      }\n    },\n    {\n      \"column\": \"mother_age\",\n      \"properties\": {\n        \"dtype\": \"number\",\n        \"std\": 0,\n        \"min\": 28,\n        \"max\": 28,\n        \"num_unique_values\": 1,\n        \"samples\": [\n          28\n        ],\n        \"semantic_type\": \"\",\n        \"description\": \"\"\n      }\n    },\n    {\n      \"column\": \"plurality\",\n      \"properties\": {\n        \"dtype\": \"category\",\n        \"num_unique_values\": 1,\n        \"samples\": [\n          \"Single(1)\"\n        ],\n        \"semantic_type\": \"\",\n        \"description\": \"\"\n      }\n    },\n    {\n      \"column\": \"gestation_weeks\",\n      \"properties\": {\n        \"dtype\": \"number\",\n        \"std\": 0,\n        \"min\": 38,\n        \"max\": 38,\n        \"num_unique_values\": 1,\n        \"samples\": [\n          38\n        ],\n        \"semantic_type\": \"\",\n        \"description\": \"\"\n      }\n    },\n    {\n      \"column\": \"mother_race\",\n      \"properties\": {\n        \"dtype\": \"number\",\n        \"std\": 0.0,\n        \"min\": 1.0,\n        \"max\": 1.0,\n        \"num_unique_values\": 1,\n        \"samples\": [\n          1.0\n        ],\n        \"semantic_type\": \"\",\n        \"description\": \"\"\n      }\n    }\n  ]\n}"
            }
          },
          "metadata": {},
          "execution_count": 6
        }
      ]
    },
    {
      "cell_type": "code",
      "source": [
        "filtered_df.info()"
      ],
      "metadata": {
        "colab": {
          "base_uri": "https://localhost:8080/"
        },
        "id": "57XjVTL5EIUi",
        "outputId": "0935e9bb-ee90-4730-80a8-701a4c1f4902"
      },
      "execution_count": null,
      "outputs": [
        {
          "output_type": "stream",
          "name": "stdout",
          "text": [
            "<class 'pandas.core.frame.DataFrame'>\n",
            "Int64Index: 917 entries, 137141 to 37509\n",
            "Data columns (total 6 columns):\n",
            " #   Column           Non-Null Count  Dtype  \n",
            "---  ------           --------------  -----  \n",
            " 0   weight_pounds    917 non-null    float64\n",
            " 1   is_male          917 non-null    bool   \n",
            " 2   mother_age       917 non-null    int64  \n",
            " 3   plurality        917 non-null    object \n",
            " 4   gestation_weeks  917 non-null    int64  \n",
            " 5   mother_race      917 non-null    float64\n",
            "dtypes: bool(1), float64(2), int64(2), object(1)\n",
            "memory usage: 43.9+ KB\n"
          ]
        }
      ]
    },
    {
      "cell_type": "markdown",
      "source": [
        "Una vez que tenemos los datos como nos gustan, vamos a graficar la distribución de los datos:"
      ],
      "metadata": {
        "id": "_x76BtLPDBhS"
      }
    },
    {
      "cell_type": "code",
      "source": [
        "fig = sns.distplot(filtered_df[[\"weight_pounds\"]])\n",
        "fig.set_title(\"Distribution of baby weight\")\n",
        "fig.set_xlabel(\"weight_pounds\")\n",
        "fig.figure.savefig(\"weight_distrib.png\")"
      ],
      "metadata": {
        "colab": {
          "base_uri": "https://localhost:8080/",
          "height": 663
        },
        "id": "6C8tHGSQ9Wp7",
        "outputId": "8a26f34d-4e0e-4064-96b7-f7147f90c8ea"
      },
      "execution_count": null,
      "outputs": [
        {
          "output_type": "stream",
          "name": "stderr",
          "text": [
            "<ipython-input-8-ffa6a2a7cf11>:1: UserWarning: \n",
            "\n",
            "`distplot` is a deprecated function and will be removed in seaborn v0.14.0.\n",
            "\n",
            "Please adapt your code to use either `displot` (a figure-level function with\n",
            "similar flexibility) or `histplot` (an axes-level function for histograms).\n",
            "\n",
            "For a guide to updating your code to use the new functions, please see\n",
            "https://gist.github.com/mwaskom/de44147ed2974457ad6372750bbe5751\n",
            "\n",
            "  fig = sns.distplot(filtered_df[[\"weight_pounds\"]])\n"
          ]
        },
        {
          "output_type": "display_data",
          "data": {
            "text/plain": [
              "<Figure size 640x480 with 1 Axes>"
            ],
            "image/png": "[encoded data removed]"
          },
          "metadata": {}
        }
      ]
    },
    {
      "cell_type": "markdown",
      "source": [
        "Parece que sigue una distribucción normal...¿será cierto? Vamos a comprobarlo con una prueba de Kolmogorov-Smirnov:"
      ],
      "metadata": {
        "id": "FGb4nRNvDPGk"
      }
    },
    {
      "cell_type": "code",
      "source": [
        "filtered_df[[\"weight_pounds\"]].values.reshape(-1)"
      ],
      "metadata": {
        "id": "3dP6cVqvEdRn",
        "colab": {
          "base_uri": "https://localhost:8080/"
        },
        "outputId": "16fd0ae2-3f81-4c2f-ef69-001ec0ec925d"
      },
      "execution_count": null,
      "outputs": [
        {
          "output_type": "execute_result",
          "data": {
            "text/plain": [
              "array([ 9.29909821,  6.9004688 ,  5.76508815,  6.16632947,  7.56185559,\n",
              "        5.43659938,  6.15089711,  8.43709077,  7.74924851,  6.72850824,\n",
              "        7.09888484,  7.31273323,  7.68751908,  8.06230492,  7.68751908,\n",
              "        7.62578964,  6.62489097,  7.874912  ,  7.50012615,  8.00278011,\n",
              "        6.87621795,  8.50102482,  8.50102482,  8.00057549,  7.26423153,\n",
              "        8.68841775,  7.53980936,  7.14959116,  7.18706974,  7.31273323,\n",
              "        8.3136319 ,  8.60023284,  6.25010513,  8.81187661,  9.06320359,\n",
              "        8.3136319 ,  7.18706974,  8.62448369,  6.98865371,  7.56185559,\n",
              "        8.81187661,  7.68751908,  6.99967682,  6.12885088,  6.91369654,\n",
              "        8.06230492,  7.8264103 ,  7.62578964,  9.43798944,  6.75055446,\n",
              "        6.31183456,  7.2510038 ,  7.06361087,  8.3136319 ,  7.3193471 ,\n",
              "        7.74924851,  8.75014718,  7.99837087,  7.37446266,  7.62578964,\n",
              "        7.31273323,  8.12403435,  9.12493302,  7.874912  ,  5.33739136,\n",
              "        8.31142728,  6.75055446,  6.20601268,  9.7466366 ,  8.86258293,\n",
              "        6.75055446,  8.24087935,  7.60594804,  7.37446266,  6.99967682,\n",
              "        8.12623898,  8.12403435,  9.87450471,  5.57769523,  5.56667212,\n",
              "        8.00057549,  8.4988202 ,  6.39781484,  6.87621795, 10.49400367,\n",
              "        6.8122839 ,  8.32465501,  8.99926953,  7.18706974,  9.64522396,\n",
              "        8.62448369,  8.37536133,  7.74924851,  7.58390181, 10.12583169,\n",
              "        7.65004049,  8.56275426,  7.24879917,  7.62578964,  6.93794739,\n",
              "        9.62317774,  6.56316154,  9.43798944,  7.56185559,  9.43798944,\n",
              "        8.24969784,  6.62489097,  6.76819144,  7.68751908,  6.12444164,\n",
              "        6.87621795,  6.75055446,  8.68841775,  7.50012615,  7.7382254 ,\n",
              "        7.81318257,  6.75055446,  7.53980936,  8.87581067,  8.24969784,\n",
              "        8.3136319 ,  7.56185559,  6.8122839 ,  8.24969784,  9.31232595,\n",
              "        8.18796841,  9.43798944,  7.93443681,  5.81138523,  7.74924851,\n",
              "        6.93794739,  8.81187661,  8.00057549, 10.31322462,  8.24969784,\n",
              "        7.06361087,  7.407532  ,  6.98203984,  8.3136319 ,  7.37446266,\n",
              "        8.71707784,  9.12493302,  4.56356882,  7.2510038 ,  7.50012615,\n",
              "        8.68841775,  8.01380322,  7.37446266,  7.89254898,  7.0658155 ,\n",
              "        8.87801529,  8.80746737,  6.68662041,  7.50012615,  9.24839189,\n",
              "        6.87621795,  7.31273323,  6.82330701,  8.99926953,  6.87621795,\n",
              "        8.06230492,  7.91679983,  7.69413294,  7.81318257,  7.34139332,\n",
              "        8.43709077,  8.06230492,  7.62578964,  7.37446266,  9.62538236,\n",
              "        6.28317447,  7.53760474,  6.72409899,  8.06230492,  6.92692427,\n",
              "        7.37446266,  7.05479238,  6.95999361,  7.81318257,  7.56185559,\n",
              "        9.14918387,  9.37185076,  6.06271221,  6.56316154,  9.12493302,\n",
              "        7.42957823,  7.12534031,  7.68751908,  7.81318257,  8.62007444,\n",
              "        6.00098277,  8.37536133,  6.97983521,  6.29419758,  8.3136319 ,\n",
              "        6.18617107,  9.31232595,  6.75055446,  7.2510038 ,  7.93664143,\n",
              "        7.56185559,  6.8122839 ,  7.81318257,  5.62619693,  8.53188954,\n",
              "        9.12493302,  8.12623898,  6.37135937,  7.43839672,  7.43839672,\n",
              "        7.09447559,  6.25010513,  7.77570398,  6.56316154,  8.99926953,\n",
              "        6.8122839 ,  9.50853736,  6.59182163,  5.93704872,  8.18796841,\n",
              "        6.8122839 ,  6.62489097,  9.93623415,  6.99967682,  7.78231785,\n",
              "        8.4988202 ,  8.24969784,  6.59623088,  7.06361087,  7.20911597,\n",
              "        7.06361087,  7.45162446,  7.93664143,  9.81277528,  8.9375401 ,\n",
              "        8.12403435,  6.31183456,  8.28938105,  8.37536133,  8.12623898,\n",
              "        7.407532  ,  8.18796841,  7.50012615,  7.43839672,  7.06361087,\n",
              "        8.3136319 ,  8.62448369, 11.49931159,  7.28627776,  6.91149191,\n",
              "        7.12534031,  8.56275426,  8.00278011,  7.61476653,  7.23557144,\n",
              "        8.39961218,  6.49922748,  8.09978351,  6.86739946,  5.68792636,\n",
              "        7.37446266,  7.74924851,  5.06181354,  5.89736551,  8.99926953,\n",
              "        8.56275426,  7.31273323,  8.37536133,  6.71307588,  7.62578964,\n",
              "        6.71087126,  7.74924851,  8.50102482,  5.13897533, 10.17433339,\n",
              "        9.18666246,  8.43709077,  8.16812681,  7.12534031,  7.81318257,\n",
              "        7.29730087,  9.12493302,  7.93664143,  7.31273323,  6.49922748,\n",
              "        4.93835467,  7.05479238,  8.26733483,  8.56275426,  5.24920646,\n",
              "        5.87531928,  8.18796841,  7.874912  ,  8.31142728,  7.93664143,\n",
              "        8.06230492,  7.93664143,  8.43709077,  7.37225804,  7.37446266,\n",
              "        6.93794739,  5.40132542,  7.2510038 ,  7.81318257,  8.26072096,\n",
              "        7.2510038 ,  7.93664143,  7.37446266,  8.09096502,  9.49971887,\n",
              "        6.31183456,  6.74834984,  7.63901738,  8.24969784,  9.56365293,\n",
              "        6.31183456,  6.80126078,  7.31052861,  8.05789568,  9.13154689,\n",
              "        7.37446266,  6.93794739,  5.68792636,  6.56316154,  7.56185559,\n",
              "        7.14297729,  8.20119615,  8.75014718,  7.93664143,  6.12444164,\n",
              "        8.75014718,  7.5728787 ,  7.874912  ,  7.62578964,  8.74794256,\n",
              "        6.43749805,  7.36343955,  6.7637822 ,  9.34539529,  7.93664143,\n",
              "        8.87581067,  7.51776313,  7.12534031,  8.24969784,  7.524377  ,\n",
              "        7.874912  ,  8.18796841,  6.51686446,  7.874912  ,  8.18796841,\n",
              "        6.73953135,  8.43709077,  8.50102482,  8.12623898,  7.31273323,\n",
              "        6.49922748,  7.56185559,  6.00098277,  7.12534031,  7.50012615,\n",
              "        8.06230492,  6.44852116,  8.43709077,  6.99967682,  6.58079852,\n",
              "        6.75055446,  8.62448369,  6.50363673,  8.00057549,  6.75055446,\n",
              "        6.18837569,  7.8264103 ,  6.74834984,  7.62578964,  8.00057549,\n",
              "        9.37405538,  6.62489097,  8.50102482,  8.50543407,  8.95076784,\n",
              "        7.81318257,  6.87621795,  5.81358985,  6.58300314,  7.12534031,\n",
              "        7.35021182,  7.43839672,  7.06140625,  6.49261362,  6.68662041,\n",
              "        7.56185559,  9.93843877,  6.56316154,  7.37446266,  7.86609351,\n",
              "        6.75055446,  7.36343955,  6.49922748,  7.50012615,  6.68662041,\n",
              "        7.35241644,  6.18837569,  9.12493302,  5.90177475,  7.68751908,\n",
              "        9.87450471,  9.18666246,  8.36433822,  8.62448369,  5.74965579,\n",
              "        5.59974145,  7.93664143,  8.06230492,  7.12534031,  8.00057549,\n",
              "        7.4560337 ,  7.84845653, 10.12583169,  6.40442871,  8.37315671,\n",
              "        6.99967682,  8.3136319 ,  6.99967682,  7.29730087,  6.28317447,\n",
              "        7.50012615,  7.18706974,  9.06320359,  6.99967682,  8.56275426,\n",
              "        6.8122839 ,  6.93794739,  6.75055446,  6.256719  ,  8.3136319 ,\n",
              "        6.87621795,  7.31273323,  8.62448369,  7.2510038 ,  5.74965579,\n",
              "        7.93002756,  8.50763869,  7.50012615,  6.06271221, 10.24929056,\n",
              "        7.874912  ,  9.12493302,  7.2510038 ,  8.3136319 ,  9.68711179,\n",
              "        7.43839672,  7.85727502,  6.87401333,  6.68662041,  8.85596906,\n",
              "        7.28627776,  8.12623898,  7.59492493,  7.93223219,  8.00057549,\n",
              "        7.81318257,  8.93974472,  7.74924851,  8.75676105,  9.08524982,\n",
              "        7.81318257,  7.65004049,  6.87621795,  6.89605956,  6.97101672,\n",
              "        7.2510038 ,  8.16812681,  7.37446266,  8.81187661,  7.62578964,\n",
              "        6.8122839 ,  6.62489097,  7.12534031,  6.91369654,  8.06230492,\n",
              "        7.48469379,  5.37486995,  8.24969784,  6.99967682,  9.06099897,\n",
              "        7.45162446,  6.25010513,  6.37135937,  8.37536133,  7.43839672,\n",
              "        6.68662041,  7.93664143,  6.43749805,  7.12534031,  7.91459521,\n",
              "        6.87621795,  8.27835794,  7.43839672,  7.62578964,  6.31844843,\n",
              "        8.56275426,  9.06320359,  7.89254898,  4.75096175,  6.93794739,\n",
              "        7.18706974,  7.18706974,  6.87621795,  8.37536133,  8.24969784,\n",
              "        6.6469372 ,  7.56185559,  7.12534031,  6.99967682,  7.02172304,\n",
              "        8.3136319 ,  8.18796841,  7.90357209,  8.67298539,  6.06271221,\n",
              "        6.97763059,  8.12403435,  9.18666246,  7.12534031,  7.12534031,\n",
              "        7.18706974,  6.56316154,  9.12493302,  8.12623898,  6.00098277,\n",
              "        7.43839672,  6.75055446, 11.00106687,  7.74924851,  6.69764352,\n",
              "        7.31273323,  9.4446033 ,  7.45382908,  7.12534031,  8.34890586,\n",
              "        5.3991208 ,  8.00057549,  9.31232595,  7.81318257,  8.43268152,\n",
              "        7.55965096,  6.87401333,  7.18706974,  7.50012615,  7.58610644,\n",
              "        6.49922748,  8.12623898,  6.34269928,  6.25010513,  7.37446266,\n",
              "        7.50012615,  7.06361087,  8.44370463,  6.14648786,  7.68751908,\n",
              "        6.18837569,  8.18796841,  6.99967682,  9.18666246,  8.99926953,\n",
              "        6.32726692,  7.874912  ,  6.68662041,  8.81187661,  5.95909494,\n",
              "        6.75055446,  7.12534031,  7.2510038 ,  9.28146123,  7.56185559,\n",
              "        7.68751908,  9.31232595,  7.43839672,  6.78141918,  7.06361087,\n",
              "        6.49922748,  6.68662041,  6.99967682,  7.17604663, 10.62628103,\n",
              "        6.8122839 ,  6.31183456,  7.12534031,  8.12623898,  5.74965579,\n",
              "        6.25010513,  7.50012615,  6.62489097,  7.74924851,  7.68751908,\n",
              "        8.00057549,  7.43839672,  7.2510038 ,  6.06271221,  7.62578964,\n",
              "        8.18796841,  9.56365293,  6.49922748,  7.18706974, 10.56014235,\n",
              "        7.06361087,  6.18837569,  7.18706974,  7.62578964,  8.18796841,\n",
              "        7.37446266,  6.75055446,  8.97281406,  7.50012615,  8.75014718,\n",
              "        9.18666246,  7.50012615,  8.99926953,  6.75055446,  8.71928246,\n",
              "        7.10990795,  8.00057549,  7.18706974,  7.874912  ,  5.56226287,\n",
              "        6.75055446,  7.31273323,  6.37797324,  7.06361087,  7.81318257,\n",
              "        9.10509142,  9.75104585,  6.18837569,  6.56316154,  8.3136319 ,\n",
              "        8.53850341,  9.12493302,  8.50102482,  7.18706974,  7.31273323,\n",
              "        7.68090521,  6.87621795,  5.99657353,  6.99967682,  7.87050275,\n",
              "        8.43709077,  7.874912  ,  7.12534031,  6.8122839 ,  7.68751908,\n",
              "        5.87531928,  6.56316154,  6.99967682,  9.68711179,  6.68662041,\n",
              "        8.24969784,  5.93704872,  6.8122839 ,  6.12223702,  6.86739946,\n",
              "        8.06230492,  6.62489097,  8.06230492,  9.43798944,  8.00057549,\n",
              "        6.93794739,  7.06361087,  8.00057549,  8.43709077,  7.50012615,\n",
              "        6.82771625,  7.74924851,  7.98734775,  6.93794739,  5.68792636,\n",
              "        8.12623898,  7.63901738,  7.62578964,  6.43749805,  6.00098277,\n",
              "        6.06271221,  7.62578964,  7.56185559,  7.06361087,  8.00057549,\n",
              "        6.00098277,  7.68751908,  6.31183456,  9.92080179,  6.8122839 ,\n",
              "        8.04907719,  8.00057549,  7.81318257,  8.03805407,  7.74924851,\n",
              "        7.06140625,  7.06140625,  7.43839672,  6.93574276,  8.81187661,\n",
              "        8.12403435,  6.13105551,  7.05038314,  6.8122839 ,  9.01029265,\n",
              "        5.29109429,  7.62578964,  8.06230492,  8.59802822,  8.00057549,\n",
              "        7.93664143,  7.06140625,  8.73030558,  7.31273323,  7.3193471 ,\n",
              "        6.8122839 ,  8.3136319 ,  6.68662041,  9.18666246,  8.80746737,\n",
              "        7.18706974,  6.99967682,  8.06230492,  5.31314051,  6.75055446,\n",
              "        6.00098277,  6.62489097,  8.06230492,  8.68621312,  9.12493302,\n",
              "        7.18706974,  6.06271221,  6.53670607,  6.06271221,  6.8122839 ,\n",
              "        9.62317774,  7.2510038 ,  7.56185559,  7.74924851,  5.99657353,\n",
              "        6.15530636,  7.2510038 ,  7.18706974,  8.11301124,  7.18706974,\n",
              "        6.06271221,  8.06230492,  5.31314051,  7.43839672,  7.8264103 ,\n",
              "        7.37446266,  9.25059651,  8.50102482,  8.37536133,  8.43709077,\n",
              "        7.31273323,  8.12403435,  8.3136319 ,  7.31273323,  7.50012615,\n",
              "        8.18796841,  8.12623898,  7.25982229,  6.86739946,  6.00098277,\n",
              "        6.87621795,  8.06230492,  6.56316154,  4.77300797,  8.24969784,\n",
              "        8.56275426,  8.56275426,  8.43709077,  7.43839672,  9.08304519,\n",
              "        8.12403435,  7.06140625,  7.06140625,  6.93794739,  6.49922748,\n",
              "        8.22324237,  6.62489097,  6.75055446,  7.43839672,  7.50012615,\n",
              "        7.31273323,  7.874912  ,  6.22585428,  8.4304769 ,  7.98073388,\n",
              "        7.95868766,  5.12574759,  7.56185559,  8.37536133,  7.93664143,\n",
              "        7.93664143,  8.24969784,  9.40271547,  7.68751908,  7.68751908,\n",
              "        6.9004688 ,  8.18796841,  8.75014718,  8.68841775,  7.56185559,\n",
              "        8.28938105,  7.43839672,  8.37536133,  7.84184266,  6.69102965,\n",
              "        7.12534031,  7.4361921 ,  8.21221926,  7.62578964,  7.06140625,\n",
              "        7.79995483,  7.12534031,  7.42516898,  8.35992898,  7.01069993,\n",
              "        7.70515606,  7.56185559,  7.56185559,  7.74924851,  8.43709077,\n",
              "        7.37446266,  7.2510038 ,  6.18837569,  7.81318257,  7.81318257,\n",
              "        6.93794739,  8.34449662,  7.50012615,  7.67208672,  7.78231785,\n",
              "        6.93794739,  9.62538236,  7.84845653,  7.31273323,  7.12534031,\n",
              "        7.62578964,  7.68751908,  8.56275426,  9.39610161,  8.88462916,\n",
              "        7.81318257,  8.7523518 ,  8.97281406,  7.68751908,  7.68751908,\n",
              "        7.93664143,  8.62448369,  9.76647821,  8.18796841,  7.43839672,\n",
              "        9.25059651,  8.12623898,  8.68841775,  7.43839672,  6.21262654,\n",
              "        7.43839672,  5.56226287,  8.81187661,  8.00057549,  9.52396972,\n",
              "        8.81187661,  6.94015201,  7.31273323,  6.00098277,  6.56316154,\n",
              "        7.37446266,  7.74924851,  6.25010513,  7.62578964,  7.0658155 ,\n",
              "        6.31183456,  7.06361087,  9.12493302,  6.49261362,  6.65796031,\n",
              "        7.67208672,  7.55083247,  7.18706974,  8.12403435,  6.70205276,\n",
              "        7.43839672,  7.56185559,  6.80126078,  8.43709077,  7.50012615,\n",
              "        7.18706974,  7.2510038 ,  6.43749805,  7.98073388,  8.3136319 ,\n",
              "        7.56185559,  8.3136319 ,  7.5530371 ,  8.00278011,  8.3136319 ,\n",
              "        6.56316154,  7.31273323,  7.50012615,  8.00057549,  8.52748029,\n",
              "        7.62578964,  7.44060134,  8.12623898,  8.43709077,  7.43839672,\n",
              "        5.81358985,  6.93794739,  7.81318257,  8.46575086,  6.00098277,\n",
              "        8.62448369,  7.81318257])"
            ]
          },
          "metadata": {},
          "execution_count": 9
        }
      ]
    },
    {
      "cell_type": "code",
      "source": [
        "from scipy.stats import kstest\n",
        "\n",
        "kstest(filtered_df[[\"weight_pounds\"]].values.reshape(-1), 'norm')"
      ],
      "metadata": {
        "colab": {
          "base_uri": "https://localhost:8080/"
        },
        "id": "mJqqhrYXDtkW",
        "outputId": "8ecdb187-9b6f-4ab7-e98a-3df7b930ce09"
      },
      "execution_count": null,
      "outputs": [
        {
          "output_type": "execute_result",
          "data": {
            "text/plain": [
              "KstestResult(statistic=0.9999974854343496, pvalue=0.0, statistic_location=4.5635688234, statistic_sign=-1)"
            ]
          },
          "metadata": {},
          "execution_count": 10
        }
      ]
    },
    {
      "cell_type": "markdown",
      "source": [
        "**Actividad**: Revisen la [documentación](https://docs.scipy.org/doc/scipy/reference/generated/scipy.stats.kstest.html) de kstest para entender mejor lo que hace esta función. Una vez revisado, ¿se acepta o no la idea de que los datos siguen una distribución normal? Escribir su respusta en una celda de texto abajo."
      ],
      "metadata": {
        "id": "HZjDzRq2Fuay"
      }
    },
    {
      "cell_type": "markdown",
      "source": [],
      "metadata": {
        "id": "He2HRwAYF7ZW"
      }
    },
    {
      "cell_type": "markdown",
      "source": [
        "Regresando al problema original, buscamos predecir el peso de un bebé, por lo que tiene sentido considerar un problema de regresión. Noten que, naturalmente, esta variable puede tomar diversos valores. De la gráfica de la distribución del subconjunto de datos que consideramos, la distribución de los datos se centra en 7.5.\n",
        "\n",
        "Sin embargo, al observar el ancho de la campana, existe una probabilidad no trivial de que un bebé pese menos de 6.5 y más de 8.5. En otras palabras, el ancho de la distribución indica el error irreducible del problema de predecir el peso de un bebé. El mejor error al que podemos aspirar sería la desviación estándar de la distribución (si consideramos como error la raiz del error cuadrático medio)."
      ],
      "metadata": {
        "id": "rJ3Rp8UaIMZr"
      }
    },
    {
      "cell_type": "markdown",
      "source": [
        "![descarga (1).png](data:image/png;base64,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)"
      ],
      "metadata": {
        "id": "xTd1bKu1FT__"
      }
    },
    {
      "cell_type": "code",
      "source": [
        "np.mean(filtered_df.weight_pounds)"
      ],
      "metadata": {
        "colab": {
          "base_uri": "https://localhost:8080/"
        },
        "id": "oTSBv4caJKI_",
        "outputId": "7a3657a9-e30b-454c-bbc6-41ea02adc636"
      },
      "execution_count": null,
      "outputs": [
        {
          "output_type": "execute_result",
          "data": {
            "text/plain": [
              "7.586967127784188"
            ]
          },
          "metadata": {},
          "execution_count": 11
        }
      ]
    },
    {
      "cell_type": "code",
      "source": [
        "np.std(filtered_df.weight_pounds)"
      ],
      "metadata": {
        "colab": {
          "base_uri": "https://localhost:8080/"
        },
        "id": "rjs10RYVJNV3",
        "outputId": "dcc0d724-c3ad-4d4f-dd36-fc8bda994e37"
      },
      "execution_count": null,
      "outputs": [
        {
          "output_type": "execute_result",
          "data": {
            "text/plain": [
              "0.996081520982105"
            ]
          },
          "metadata": {},
          "execution_count": 12
        }
      ]
    },
    {
      "cell_type": "markdown",
      "source": [
        "Por lo tanto, al formular este problema como de regresión, los resultados del modelo se ubicarían en 7.5 $\\pm$ 1."
      ],
      "metadata": {
        "id": "kiT_iNNeJ3K9"
      }
    },
    {
      "cell_type": "markdown",
      "source": [
        "Al reformular el problema como de clasificación multiclase, estariamos aprendiendo la distribución de probabilidad discreta dados los datos en el conjunto de entrenamiento.\n",
        "\n",
        "- Esto vuelve más flexible el modelo en cuanto a capturar la incertidumbre y es más capaz de aproximar objetivos más complejos que un modelo de regresión.\n",
        "- Al realizar la inferencia, el modelo predice una colección de probabilidad que corresponden a estas salidas potenciales.\n",
        "- Aunque, hay que tener cuidado. Es posible que, al considerar buckets nuevas, puedan estar desequilibradas o ser muchas, lo cual puede afectar el rendimiento del modelo de clasificación y no dar buenos resultados."
      ],
      "metadata": {
        "id": "BzkbdwevKHbq"
      }
    },
    {
      "cell_type": "markdown",
      "source": [
        "### Comparación entre la formulación del problema de regresión y clasificación"
      ],
      "metadata": {
        "id": "UGxUc2gClu5O"
      }
    },
    {
      "cell_type": "markdown",
      "source": [
        "La idea de reformular un problema de regresión como uno de clasificación implica agrupar (*bucketize*) la variable de salida. Por ejemplo, consideremos que el peso del bebé lo vamos a dividir en cuatro grupos según su peso:\n",
        "\n",
        "- `0` si $\\text{peso} < 3.31$\n",
        "- `1` si $3.31\\leq\\text{peso} < 5.5$\n",
        "- `2` si $5.5\\leq\\text{peso} < 8.8$\n",
        "- `3` si $\\text{peso}\\geq 8.8$"
      ],
      "metadata": {
        "id": "7DuKQ8GJMimD"
      }
    },
    {
      "cell_type": "code",
      "source": [
        "import tensorflow as tf\n",
        "\n",
        "from tensorflow.keras.utils import to_categorical, FeatureSpace\n",
        "from tensorflow import keras\n",
        "from tensorflow import feature_column as fc\n",
        "from tensorflow.keras import layers, models, Model\n",
        "from tensorflow.data import Dataset"
      ],
      "metadata": {
        "id": "60l0oKa-MQNH"
      },
      "execution_count": null,
      "outputs": []
    },
    {
      "cell_type": "markdown",
      "source": [
        "Necesitamos crear la representación de la nueva variable de salida para el modelo de clasificación:"
      ],
      "metadata": {
        "id": "ooJBoic2OB6v"
      }
    },
    {
      "cell_type": "code",
      "source": [
        "# prepare inputs\n",
        "df_train.is_male = df_train.is_male.astype(str)\n",
        "df_train.plurality = df_train.plurality.astype(str)\n",
        "df_train.mother_age = df_train.mother_age.astype(float)\n",
        "df_train.gestation_weeks = df_train.gestation_weeks.astype(float)\n",
        "\n",
        "df_train.mother_race.fillna(0, inplace = True)\n",
        "\n",
        "# create categorical label\n",
        "def categorical_weight(weight_pounds):\n",
        "    if weight_pounds < 3.31:\n",
        "        return 0\n",
        "    elif weight_pounds >= 3.31 and weight_pounds < 5.5:\n",
        "        return 1\n",
        "    elif weight_pounds >= 5.5 and weight_pounds < 8.8:\n",
        "        return 2\n",
        "    else:\n",
        "        return 3\n",
        "\n",
        "df_train[\"weight_category\"] = df_train.weight_pounds.apply(lambda x: categorical_weight(x))"
      ],
      "metadata": {
        "id": "7nSvkz2lMW6R"
      },
      "execution_count": null,
      "outputs": []
    },
    {
      "cell_type": "code",
      "source": [
        "df_train.head()"
      ],
      "metadata": {
        "colab": {
          "base_uri": "https://localhost:8080/",
          "height": 206
        },
        "id": "Nhntbj1MMhEt",
        "outputId": "ba8622c3-9656-4e90-8a80-ff90a8f7c19d"
      },
      "execution_count": null,
      "outputs": [
        {
          "output_type": "execute_result",
          "data": {
            "text/plain": [
              "   weight_pounds is_male  mother_age  plurality  gestation_weeks  mother_race  \\\n",
              "0       7.749249   False        12.0  Single(1)             40.0          1.0   \n",
              "1       7.561856    True        12.0  Single(1)             40.0          2.0   \n",
              "2       7.187070   False        12.0  Single(1)             34.0          3.0   \n",
              "3       6.375769    True        12.0  Single(1)             36.0          2.0   \n",
              "4       7.936641   False        12.0  Single(1)             35.0          0.0   \n",
              "\n",
              "   weight_category  \n",
              "0                2  \n",
              "1                2  \n",
              "2                2  \n",
              "3                2  \n",
              "4                2  "
            ],
            "text/html": [
              "\n",
              "  <div id=\"df-45e03823-8343-435e-9f4f-043d8518b321\" class=\"colab-df-container\">\n",
              "    <div>\n",
              "<style scoped>\n",
              "    .dataframe tbody tr th:only-of-type {\n",
              "        vertical-align: middle;\n",
              "    }\n",
              "\n",
              "    .dataframe tbody tr th {\n",
              "        vertical-align: top;\n",
              "    }\n",
              "\n",
              "    .dataframe thead th {\n",
              "        text-align: right;\n",
              "    }\n",
              "</style>\n",
              "<table border=\"1\" class=\"dataframe\">\n",
              "  <thead>\n",
              "    <tr style=\"text-align: right;\">\n",
              "      <th></th>\n",
              "      <th>weight_pounds</th>\n",
              "      <th>is_male</th>\n",
              "      <th>mother_age</th>\n",
              "      <th>plurality</th>\n",
              "      <th>gestation_weeks</th>\n",
              "      <th>mother_race</th>\n",
              "      <th>weight_category</th>\n",
              "    </tr>\n",
              "  </thead>\n",
              "  <tbody>\n",
              "    <tr>\n",
              "      <th>0</th>\n",
              "      <td>7.749249</td>\n",
              "      <td>False</td>\n",
              "      <td>12.0</td>\n",
              "      <td>Single(1)</td>\n",
              "      <td>40.0</td>\n",
              "      <td>1.0</td>\n",
              "      <td>2</td>\n",
              "    </tr>\n",
              "    <tr>\n",
              "      <th>1</th>\n",
              "      <td>7.561856</td>\n",
              "      <td>True</td>\n",
              "      <td>12.0</td>\n",
              "      <td>Single(1)</td>\n",
              "      <td>40.0</td>\n",
              "      <td>2.0</td>\n",
              "      <td>2</td>\n",
              "    </tr>\n",
              "    <tr>\n",
              "      <th>2</th>\n",
              "      <td>7.187070</td>\n",
              "      <td>False</td>\n",
              "      <td>12.0</td>\n",
              "      <td>Single(1)</td>\n",
              "      <td>34.0</td>\n",
              "      <td>3.0</td>\n",
              "      <td>2</td>\n",
              "    </tr>\n",
              "    <tr>\n",
              "      <th>3</th>\n",
              "      <td>6.375769</td>\n",
              "      <td>True</td>\n",
              "      <td>12.0</td>\n",
              "      <td>Single(1)</td>\n",
              "      <td>36.0</td>\n",
              "      <td>2.0</td>\n",
              "      <td>2</td>\n",
              "    </tr>\n",
              "    <tr>\n",
              "      <th>4</th>\n",
              "      <td>7.936641</td>\n",
              "      <td>False</td>\n",
              "      <td>12.0</td>\n",
              "      <td>Single(1)</td>\n",
              "      <td>35.0</td>\n",
              "      <td>0.0</td>\n",
              "      <td>2</td>\n",
              "    </tr>\n",
              "  </tbody>\n",
              "</table>\n",
              "</div>\n",
              "    <div class=\"colab-df-buttons\">\n",
              "\n",
              "  <div class=\"colab-df-container\">\n",
              "    <button class=\"colab-df-convert\" onclick=\"convertToInteractive('df-45e03823-8343-435e-9f4f-043d8518b321')\"\n",
              "            title=\"Convert this dataframe to an interactive table.\"\n",
              "            style=\"display:none;\">\n",
              "\n",
              "  <svg xmlns=\"http://www.w3.org/2000/svg\" height=\"24px\" viewBox=\"0 -960 960 960\">\n",
              "    <path d=\"M120-120v-720h720v720H120Zm60-500h600v-160H180v160Zm220 220h160v-160H400v160Zm0 220h160v-160H400v160ZM180-400h160v-160H180v160Zm440 0h160v-160H620v160ZM180-180h160v-160H180v160Zm440 0h160v-160H620v160Z\"/>\n",
              "  </svg>\n",
              "    </button>\n",
              "\n",
              "  <style>\n",
              "    .colab-df-container {\n",
              "      display:flex;\n",
              "      gap: 12px;\n",
              "    }\n",
              "\n",
              "    .colab-df-convert {\n",
              "      background-color: #E8F0FE;\n",
              "      border: none;\n",
              "      border-radius: 50%;\n",
              "      cursor: pointer;\n",
              "      display: none;\n",
              "      fill: #1967D2;\n",
              "      height: 32px;\n",
              "      padding: 0 0 0 0;\n",
              "      width: 32px;\n",
              "    }\n",
              "\n",
              "    .colab-df-convert:hover {\n",
              "      background-color: #E2EBFA;\n",
              "      box-shadow: 0px 1px 2px rgba(60, 64, 67, 0.3), 0px 1px 3px 1px rgba(60, 64, 67, 0.15);\n",
              "      fill: #174EA6;\n",
              "    }\n",
              "\n",
              "    .colab-df-buttons div {\n",
              "      margin-bottom: 4px;\n",
              "    }\n",
              "\n",
              "    [theme=dark] .colab-df-convert {\n",
              "      background-color: #3B4455;\n",
              "      fill: #D2E3FC;\n",
              "    }\n",
              "\n",
              "    [theme=dark] .colab-df-convert:hover {\n",
              "      background-color: #434B5C;\n",
              "      box-shadow: 0px 1px 3px 1px rgba(0, 0, 0, 0.15);\n",
              "      filter: drop-shadow(0px 1px 2px rgba(0, 0, 0, 0.3));\n",
              "      fill: #FFFFFF;\n",
              "    }\n",
              "  </style>\n",
              "\n",
              "    <script>\n",
              "      const buttonEl =\n",
              "        document.querySelector('#df-45e03823-8343-435e-9f4f-043d8518b321 button.colab-df-convert');\n",
              "      buttonEl.style.display =\n",
              "        google.colab.kernel.accessAllowed ? 'block' : 'none';\n",
              "\n",
              "      async function convertToInteractive(key) {\n",
              "        const element = document.querySelector('#df-45e03823-8343-435e-9f4f-043d8518b321');\n",
              "        const dataTable =\n",
              "          await google.colab.kernel.invokeFunction('convertToInteractive',\n",
              "                                                    [key], {});\n",
              "        if (!dataTable) return;\n",
              "\n",
              "        const docLinkHtml = 'Like what you see? Visit the ' +\n",
              "          '<a target=\"_blank\" href=https://colab.research.google.com/notebooks/data_table.ipynb>data table notebook</a>'\n",
              "          + ' to learn more about interactive tables.';\n",
              "        element.innerHTML = '';\n",
              "        dataTable['output_type'] = 'display_data';\n",
              "        await google.colab.output.renderOutput(dataTable, element);\n",
              "        const docLink = document.createElement('div');\n",
              "        docLink.innerHTML = docLinkHtml;\n",
              "        element.appendChild(docLink);\n",
              "      }\n",
              "    </script>\n",
              "  </div>\n",
              "\n",
              "\n",
              "<div id=\"df-badfb35b-92db-42e4-8c6a-9c0bdf6eb2db\">\n",
              "  <button class=\"colab-df-quickchart\" onclick=\"quickchart('df-badfb35b-92db-42e4-8c6a-9c0bdf6eb2db')\"\n",
              "            title=\"Suggest charts\"\n",
              "            style=\"display:none;\">\n",
              "\n",
              "<svg xmlns=\"http://www.w3.org/2000/svg\" height=\"24px\"viewBox=\"0 0 24 24\"\n",
              "     width=\"24px\">\n",
              "    <g>\n",
              "        <path d=\"M19 3H5c-1.1 0-2 .9-2 2v14c0 1.1.9 2 2 2h14c1.1 0 2-.9 2-2V5c0-1.1-.9-2-2-2zM9 17H7v-7h2v7zm4 0h-2V7h2v10zm4 0h-2v-4h2v4z\"/>\n",
              "    </g>\n",
              "</svg>\n",
              "  </button>\n",
              "\n",
              "<style>\n",
              "  .colab-df-quickchart {\n",
              "      --bg-color: #E8F0FE;\n",
              "      --fill-color: #1967D2;\n",
              "      --hover-bg-color: #E2EBFA;\n",
              "      --hover-fill-color: #174EA6;\n",
              "      --disabled-fill-color: #AAA;\n",
              "      --disabled-bg-color: #DDD;\n",
              "  }\n",
              "\n",
              "  [theme=dark] .colab-df-quickchart {\n",
              "      --bg-color: #3B4455;\n",
              "      --fill-color: #D2E3FC;\n",
              "      --hover-bg-color: #434B5C;\n",
              "      --hover-fill-color: #FFFFFF;\n",
              "      --disabled-bg-color: #3B4455;\n",
              "      --disabled-fill-color: #666;\n",
              "  }\n",
              "\n",
              "  .colab-df-quickchart {\n",
              "    background-color: var(--bg-color);\n",
              "    border: none;\n",
              "    border-radius: 50%;\n",
              "    cursor: pointer;\n",
              "    display: none;\n",
              "    fill: var(--fill-color);\n",
              "    height: 32px;\n",
              "    padding: 0;\n",
              "    width: 32px;\n",
              "  }\n",
              "\n",
              "  .colab-df-quickchart:hover {\n",
              "    background-color: var(--hover-bg-color);\n",
              "    box-shadow: 0 1px 2px rgba(60, 64, 67, 0.3), 0 1px 3px 1px rgba(60, 64, 67, 0.15);\n",
              "    fill: var(--button-hover-fill-color);\n",
              "  }\n",
              "\n",
              "  .colab-df-quickchart-complete:disabled,\n",
              "  .colab-df-quickchart-complete:disabled:hover {\n",
              "    background-color: var(--disabled-bg-color);\n",
              "    fill: var(--disabled-fill-color);\n",
              "    box-shadow: none;\n",
              "  }\n",
              "\n",
              "  .colab-df-spinner {\n",
              "    border: 2px solid var(--fill-color);\n",
              "    border-color: transparent;\n",
              "    border-bottom-color: var(--fill-color);\n",
              "    animation:\n",
              "      spin 1s steps(1) infinite;\n",
              "  }\n",
              "\n",
              "  @keyframes spin {\n",
              "    0% {\n",
              "      border-color: transparent;\n",
              "      border-bottom-color: var(--fill-color);\n",
              "      border-left-color: var(--fill-color);\n",
              "    }\n",
              "    20% {\n",
              "      border-color: transparent;\n",
              "      border-left-color: var(--fill-color);\n",
              "      border-top-color: var(--fill-color);\n",
              "    }\n",
              "    30% {\n",
              "      border-color: transparent;\n",
              "      border-left-color: var(--fill-color);\n",
              "      border-top-color: var(--fill-color);\n",
              "      border-right-color: var(--fill-color);\n",
              "    }\n",
              "    40% {\n",
              "      border-color: transparent;\n",
              "      border-right-color: var(--fill-color);\n",
              "      border-top-color: var(--fill-color);\n",
              "    }\n",
              "    60% {\n",
              "      border-color: transparent;\n",
              "      border-right-color: var(--fill-color);\n",
              "    }\n",
              "    80% {\n",
              "      border-color: transparent;\n",
              "      border-right-color: var(--fill-color);\n",
              "      border-bottom-color: var(--fill-color);\n",
              "    }\n",
              "    90% {\n",
              "      border-color: transparent;\n",
              "      border-bottom-color: var(--fill-color);\n",
              "    }\n",
              "  }\n",
              "</style>\n",
              "\n",
              "  <script>\n",
              "    async function quickchart(key) {\n",
              "      const quickchartButtonEl =\n",
              "        document.querySelector('#' + key + ' button');\n",
              "      quickchartButtonEl.disabled = true;  // To prevent multiple clicks.\n",
              "      quickchartButtonEl.classList.add('colab-df-spinner');\n",
              "      try {\n",
              "        const charts = await google.colab.kernel.invokeFunction(\n",
              "            'suggestCharts', [key], {});\n",
              "      } catch (error) {\n",
              "        console.error('Error during call to suggestCharts:', error);\n",
              "      }\n",
              "      quickchartButtonEl.classList.remove('colab-df-spinner');\n",
              "      quickchartButtonEl.classList.add('colab-df-quickchart-complete');\n",
              "    }\n",
              "    (() => {\n",
              "      let quickchartButtonEl =\n",
              "        document.querySelector('#df-badfb35b-92db-42e4-8c6a-9c0bdf6eb2db button');\n",
              "      quickchartButtonEl.style.display =\n",
              "        google.colab.kernel.accessAllowed ? 'block' : 'none';\n",
              "    })();\n",
              "  </script>\n",
              "</div>\n",
              "\n",
              "    </div>\n",
              "  </div>\n"
            ],
            "application/vnd.google.colaboratory.intrinsic+json": {
              "type": "dataframe",
              "variable_name": "df_train"
            }
          },
          "metadata": {},
          "execution_count": 15
        }
      ]
    },
    {
      "cell_type": "code",
      "source": [
        "df_train.info()"
      ],
      "metadata": {
        "colab": {
          "base_uri": "https://localhost:8080/"
        },
        "id": "t_0DaJ-daM03",
        "outputId": "d19eea59-6414-4a3b-e543-e6cad0d7ba65"
      },
      "execution_count": null,
      "outputs": [
        {
          "output_type": "stream",
          "name": "stdout",
          "text": [
            "<class 'pandas.core.frame.DataFrame'>\n",
            "RangeIndex: 264564 entries, 0 to 264563\n",
            "Data columns (total 7 columns):\n",
            " #   Column           Non-Null Count   Dtype  \n",
            "---  ------           --------------   -----  \n",
            " 0   weight_pounds    264564 non-null  float64\n",
            " 1   is_male          264564 non-null  object \n",
            " 2   mother_age       264564 non-null  float64\n",
            " 3   plurality        264564 non-null  object \n",
            " 4   gestation_weeks  264564 non-null  float64\n",
            " 5   mother_race      264564 non-null  float64\n",
            " 6   weight_category  264564 non-null  int64  \n",
            "dtypes: float64(4), int64(1), object(2)\n",
            "memory usage: 14.1+ MB\n"
          ]
        }
      ]
    },
    {
      "cell_type": "markdown",
      "source": [
        "Dado que vamos a entrenar dos modelos (el de regresión y clasificación), vamos a preparar los datos para cada uno. La única diferencia yace en la definición `y_train`:"
      ],
      "metadata": {
        "id": "yrTlf9p6OteI"
      }
    },
    {
      "cell_type": "code",
      "source": [
        "def encode_labels(classes):\n",
        "    one_hots = to_categorical(classes)\n",
        "    return one_hots\n",
        "\n",
        "FEATURES = ['is_male', 'mother_age', 'plurality', 'gestation_weeks', 'mother_race']\n",
        "\n",
        "LABEL_CLS = ['weight_category']\n",
        "LABEL_REG = ['weight_pounds']\n",
        "\n",
        "N_TRAIN = int(df_train.shape[0] * 0.80)\n",
        "\n",
        "X_train = df_train[FEATURES][:N_TRAIN]\n",
        "X_valid = df_train[FEATURES][N_TRAIN:]\n",
        "\n",
        "y_train_cls = encode_labels(df_train[LABEL_CLS][:N_TRAIN])\n",
        "y_train_reg = df_train[LABEL_REG][:N_TRAIN]\n",
        "\n",
        "y_valid_cls = encode_labels(df_train[LABEL_CLS][N_TRAIN:])\n",
        "y_valid_reg = df_train[LABEL_REG][N_TRAIN:]"
      ],
      "metadata": {
        "id": "9wBRU7w7OK9p"
      },
      "execution_count": null,
      "outputs": []
    },
    {
      "cell_type": "code",
      "source": [
        "X_train.info()"
      ],
      "metadata": {
        "colab": {
          "base_uri": "https://localhost:8080/"
        },
        "id": "JfamdpJ9crJm",
        "outputId": "578d9a6d-37a7-4c22-d7c0-ded22ddaada0"
      },
      "execution_count": null,
      "outputs": [
        {
          "output_type": "stream",
          "name": "stdout",
          "text": [
            "<class 'pandas.core.frame.DataFrame'>\n",
            "RangeIndex: 211651 entries, 0 to 211650\n",
            "Data columns (total 5 columns):\n",
            " #   Column           Non-Null Count   Dtype  \n",
            "---  ------           --------------   -----  \n",
            " 0   is_male          211651 non-null  object \n",
            " 1   mother_age       211651 non-null  float64\n",
            " 2   plurality        211651 non-null  object \n",
            " 3   gestation_weeks  211651 non-null  float64\n",
            " 4   mother_race      211651 non-null  float64\n",
            "dtypes: float64(3), object(2)\n",
            "memory usage: 8.1+ MB\n"
          ]
        }
      ]
    },
    {
      "cell_type": "markdown",
      "source": [
        "En este punto vamos a tomar un camino diferente para entrenar una red neuronal usando Keras y Tensorflow. Para preparar y transformar los datos, tienen dos opciones: lo hacen desde afuera para meterlos al modelo, o usan los recursos disponibles en Keras para transformarlos y alimentarlos al modelo.\n",
        "\n",
        "Tanto Scikit-learn, Keras y Pytorch cuentan con métodos para cargar datos en estructuras propias, procesarlos y aplicarles transformaciones, y alimentarlos a un modelo. Vamos a empezar pasando los datos de un `DataFrame` a un `Dataset` de Tensorflow."
      ],
      "metadata": {
        "id": "JVvxtl_XNy7B"
      }
    },
    {
      "cell_type": "code",
      "source": [
        "# train/validation dataset features\n",
        "features_train = tf.data.Dataset.from_tensor_slices(X_train.to_dict('list'))\n",
        "features_valid = tf.data.Dataset.from_tensor_slices(X_valid.to_dict('list'))\n",
        "\n",
        "# train/validation dataset labels cls\n",
        "cls_labels_dataset_train = tf.data.Dataset.from_tensor_slices(y_train_cls)\n",
        "cls_labels_dataset_val = tf.data.Dataset.from_tensor_slices(y_valid_cls)\n",
        "\n",
        "# train/validation dataset labels reg\n",
        "reg_labels_dataset_train = tf.data.Dataset.from_tensor_slices(y_train_reg.values)\n",
        "reg_labels_dataset_val = tf.data.Dataset.from_tensor_slices(y_valid_reg.values)"
      ],
      "metadata": {
        "id": "2ckZfLT2VCZj"
      },
      "execution_count": null,
      "outputs": []
    },
    {
      "cell_type": "markdown",
      "source": [
        "**Actividad**: ¿Qué hace `from_tensor_slices`? Responder en una celda de texto abajo.\n",
        "\n"
      ],
      "metadata": {
        "id": "nDFjar88OegJ"
      }
    },
    {
      "cell_type": "markdown",
      "source": [
        "Después viene lo bueno. En Pandas vimos como transformar variables numéricas y categóricas en un formato adecuado. Tensorflow cuenta con `FeatureSpace` para preprocesar y codificar datos, además de poder definiar nuestras propias transformaciones si no se encuentran dentro de las que se encuentran disponibles. También es posible aplicar hashing, bucketing y crosses."
      ],
      "metadata": {
        "id": "0waajJ7MOnq0"
      }
    },
    {
      "cell_type": "markdown",
      "source": [
        "**Actividad**: Revisar la documentación de `FeatureSpace` y escribir un pequeño resumen de lo que hace. Escribir su respuesta en un celda de texto abajo."
      ],
      "metadata": {
        "id": "HTPclMwYO91r"
      }
    },
    {
      "cell_type": "markdown",
      "source": [
        "Lo que hacemos en este punto es aplicarle a las variables categóricas que lo requieran one-hot-encoding. A las otras variables numéricas vamos a dejarlas tal cual.\n",
        "\n",
        "\n"
      ],
      "metadata": {
        "id": "h3nStW1dPKF-"
      }
    },
    {
      "cell_type": "code",
      "source": [
        "feature_space = FeatureSpace(\n",
        "    features={\n",
        "        'is_male': 'string_categorical',\n",
        "        'mother_age': 'float',\n",
        "        'plurality': 'string_categorical',\n",
        "        'gestation_weeks': 'float',\n",
        "        'mother_race': 'integer_categorical'\n",
        "    },\n",
        "    output_mode=\"concat\",\n",
        ")\n",
        "\n",
        "feature_space.adapt(features_train)"
      ],
      "metadata": {
        "id": "oVzD06fmRJwu"
      },
      "execution_count": null,
      "outputs": []
    },
    {
      "cell_type": "markdown",
      "source": [
        "Una vez que definimos las transformaciones que vamos a aplicar, transformamos nuestras características:"
      ],
      "metadata": {
        "id": "bY_jHMJGPbxx"
      }
    },
    {
      "cell_type": "code",
      "source": [
        "preprocessed_features_train = features_train.map(feature_space)\n",
        "preprocessed_features_val = features_valid.map(feature_space)"
      ],
      "metadata": {
        "id": "CrMXXVXLZLLw"
      },
      "execution_count": null,
      "outputs": []
    },
    {
      "cell_type": "markdown",
      "source": [
        "Ahora juntamos en un solo `Dataset` las características y las etiquetas para los modelos de clasificación y regresión, tanto para entrenamiento y validación."
      ],
      "metadata": {
        "id": "Ss3tG_YhPu9l"
      }
    },
    {
      "cell_type": "code",
      "source": [
        "# zip features and labels for cls train/valid\n",
        "dataset_cls_train = Dataset.zip((preprocessed_features_train, cls_labels_dataset_train))\n",
        "dataset_cls_val = Dataset.zip((preprocessed_features_val, cls_labels_dataset_val))\n",
        "\n",
        "# zip features and labels for reg train/valid\n",
        "dataset_reg_train = Dataset.zip((preprocessed_features_train, reg_labels_dataset_train))\n",
        "dataset_reg_val = Dataset.zip((preprocessed_features_val, reg_labels_dataset_val))"
      ],
      "metadata": {
        "id": "4kf_ifVGXsQQ"
      },
      "execution_count": null,
      "outputs": []
    },
    {
      "cell_type": "markdown",
      "source": [
        "Este es un paso importante. Todos nuestros datos los vamos a dividir en subconjunto de tamaño 32. Lo requeriremos más adelante para que nuestro modelo compile."
      ],
      "metadata": {
        "id": "lP0nYJaPQC2N"
      }
    },
    {
      "cell_type": "code",
      "source": [
        "dataset_cls_train = dataset_cls_train.batch(32)\n",
        "dataset_cls_val = dataset_cls_val.batch(X_valid.shape[0])\n",
        "\n",
        "dataset_reg_train = dataset_reg_train.batch(32)\n",
        "dataset_reg_val = dataset_reg_val.batch(X_valid.shape[0])"
      ],
      "metadata": {
        "id": "fLw_ZQb4EocV"
      },
      "execution_count": null,
      "outputs": []
    },
    {
      "cell_type": "markdown",
      "source": [
        "¿Cómo se ven nuestros datos en la estructura `Dataset`?"
      ],
      "metadata": {
        "id": "_arBwbj3QWWt"
      }
    },
    {
      "cell_type": "code",
      "source": [
        "for x, y in dataset_cls_val.take(1):\n",
        "    print(f\"Input: {x}\")\n",
        "    print(f\"Target: {y}\")"
      ],
      "metadata": {
        "colab": {
          "base_uri": "https://localhost:8080/"
        },
        "id": "KQPaafw3CaTM",
        "outputId": "2a660970-7ec5-4bd8-cac2-e907fd23f7aa"
      },
      "execution_count": null,
      "outputs": [
        {
          "output_type": "stream",
          "name": "stdout",
          "text": [
            "Input: [[38.  0.  1. ...  0.  0.  0.]\n",
            " [39.  0.  1. ...  0.  0.  0.]\n",
            " [39.  0.  1. ...  0.  0.  0.]\n",
            " ...\n",
            " [37.  0.  1. ...  1.  0.  0.]\n",
            " [42.  0.  1. ...  0.  0.  0.]\n",
            " [36.  0.  1. ...  0.  0.  0.]]\n",
            "Target: [[0. 0. 1. 0.]\n",
            " [0. 0. 1. 0.]\n",
            " [0. 0. 1. 0.]\n",
            " ...\n",
            " [0. 0. 1. 0.]\n",
            " [0. 0. 1. 0.]\n",
            " [0. 0. 1. 0.]]\n"
          ]
        }
      ]
    },
    {
      "cell_type": "code",
      "source": [
        "for x in features_train.take(1):\n",
        "  preprocessed_x = feature_space(x)\n",
        "  print(f\"preprocessed_x shape: {preprocessed_x.shape}\")\n",
        "  print(f\"preprocessed_x sample: \\n{preprocessed_x}\")"
      ],
      "metadata": {
        "colab": {
          "base_uri": "https://localhost:8080/"
        },
        "id": "tq_Vn99GACWx",
        "outputId": "5a65bab5-b7b8-435b-88a4-f8a77ce344f8"
      },
      "execution_count": null,
      "outputs": [
        {
          "output_type": "stream",
          "name": "stdout",
          "text": [
            "preprocessed_x shape: (27,)\n",
            "preprocessed_x sample: \n",
            "[40.  0.  0.  1. 12.  0.  1.  0.  0.  0.  0.  0.  0.  0.  0.  0.  0.  0.\n",
            "  0.  0.  0.  0.  0.  1.  0.  0.  0.]\n"
          ]
        }
      ]
    },
    {
      "cell_type": "markdown",
      "source": [
        "Perfecto. Ahora vamos a empezar a declarar nuestra red neuronal. Aprovecharemos nuestro componente `FeatureSpace` para construir el modelo, ya que queremos que el modelo sea compatible con nuestra función de preprocesamiento, usemos el\n",
        "mapa de características de `FeatureSpace` como entrada de nuestro modelo."
      ],
      "metadata": {
        "id": "95gr0sYdQdVG"
      }
    },
    {
      "cell_type": "code",
      "source": [
        "# Retrieve a dict Keras Input objects\n",
        "inputs = feature_space.get_inputs()\n",
        "# Retrieve the corresponding encoded Keras tensors\n",
        "encoded_features = feature_space.get_encoded_features()"
      ],
      "metadata": {
        "id": "S5-Sg4MrgCY6"
      },
      "execution_count": null,
      "outputs": []
    },
    {
      "cell_type": "markdown",
      "source": [
        "Vamos a definir una arquitectura muy sencilla para ambos modelos de clasificación y regresión. No se estresen."
      ],
      "metadata": {
        "id": "LZ7cJYOvQ8AF"
      }
    },
    {
      "cell_type": "code",
      "source": [
        "# create hidden layers\n",
        "h1 = layers.Dense(20, activation=\"relu\")(encoded_features)\n",
        "h2 = layers.Dense(10, activation=\"relu\")(h1)\n",
        "\n",
        "# create classification model\n",
        "cls_output = layers.Dense(4, activation=\"softmax\")(h2)\n",
        "cls_model = tf.keras.models.Model(inputs=encoded_features, outputs=cls_output)\n",
        "cls_model.compile(optimizer='adam',\n",
        "              loss=tf.keras.losses.CategoricalCrossentropy(),\n",
        "              metrics=['accuracy'])\n",
        "\n",
        "\n",
        "# create regression model\n",
        "reg_output = layers.Dense(1, activation=\"relu\")(h2)\n",
        "reg_model = tf.keras.models.Model(inputs=encoded_features, outputs=reg_output)\n",
        "reg_model.compile(optimizer='adam',\n",
        "              loss=tf.keras.losses.MeanSquaredError(),\n",
        "              metrics=['mse'])"
      ],
      "metadata": {
        "id": "ubK7Fxu9k-I6"
      },
      "execution_count": null,
      "outputs": []
    },
    {
      "cell_type": "markdown",
      "source": [
        "Vamos a ajustar el modelo de clasificación con el conjunto correspondiente de entrenamiento. Noten que tampoco estamos ajustando mucho el número de `epochs`.\n",
        "\n"
      ],
      "metadata": {
        "id": "uZjvEWdcRE8w"
      }
    },
    {
      "cell_type": "code",
      "source": [
        "# train the classifcation model\n",
        "history_cls = cls_model.fit(dataset_cls_train, epochs=2, verbose=2)"
      ],
      "metadata": {
        "colab": {
          "base_uri": "https://localhost:8080/"
        },
        "id": "GgtsHCBlgr35",
        "outputId": "6da70e1c-de40-4b80-8b86-9b429a7e61ee"
      },
      "execution_count": null,
      "outputs": [
        {
          "output_type": "stream",
          "name": "stdout",
          "text": [
            "Epoch 1/2\n",
            "6615/6615 - 30s - loss: 0.4963 - accuracy: 0.8495 - 30s/epoch - 5ms/step\n",
            "Epoch 2/2\n",
            "6615/6615 - 30s - loss: 0.4675 - accuracy: 0.8534 - 30s/epoch - 5ms/step\n"
          ]
        }
      ]
    },
    {
      "cell_type": "markdown",
      "source": [
        "Ya que se ajusto con nuestros datos de entrenamiento, vamos a evaluar con el conjunto de validación y obtenemos nuestra métrica de `accuracy`."
      ],
      "metadata": {
        "id": "MsLxquIIRVe3"
      }
    },
    {
      "cell_type": "code",
      "source": [
        "val_loss, val_accuracy = cls_model.evaluate(dataset_cls_val)\n",
        "print(\"Validation accuracy for classifcation model: {}\".format(val_accuracy))"
      ],
      "metadata": {
        "colab": {
          "base_uri": "https://localhost:8080/"
        },
        "id": "2AIw3DFGHm8S",
        "outputId": "139a559f-1cd8-4305-b264-f50359f5ef32"
      },
      "execution_count": null,
      "outputs": [
        {
          "output_type": "stream",
          "name": "stdout",
          "text": [
            "1/1 [==============================] - 6s 6s/step - loss: 0.8986 - accuracy: 0.6915\n",
            "Validation accuracy for classifcation model: 0.6914746761322021\n"
          ]
        }
      ]
    },
    {
      "cell_type": "markdown",
      "source": [
        "Repetimos lo anterior para el modelo de regresión:"
      ],
      "metadata": {
        "id": "-gC5_0I0Rebx"
      }
    },
    {
      "cell_type": "code",
      "source": [
        "reg_model.fit(dataset_reg_train, epochs=2)"
      ],
      "metadata": {
        "colab": {
          "base_uri": "https://localhost:8080/"
        },
        "id": "dz0pbXEqHGoT",
        "outputId": "39f5d313-790a-4c5e-8639-5cab92597733"
      },
      "execution_count": null,
      "outputs": [
        {
          "output_type": "stream",
          "name": "stdout",
          "text": [
            "Epoch 1/2\n",
            "6615/6615 [==============================] - 34s 5ms/step - loss: 1.0590 - mse: 1.0590\n",
            "Epoch 2/2\n",
            "6615/6615 [==============================] - 32s 5ms/step - loss: 1.0578 - mse: 1.0578\n"
          ]
        },
        {
          "output_type": "execute_result",
          "data": {
            "text/plain": [
              "<keras.src.callbacks.History at 0x7e4df6fd4eb0>"
            ]
          },
          "metadata": {},
          "execution_count": 30
        }
      ]
    },
    {
      "cell_type": "code",
      "source": [
        "val_loss, val_mse = reg_model.evaluate(dataset_reg_val)\n",
        "print(\"Validation RMSE for regression model: {}\".format(val_mse**0.5))"
      ],
      "metadata": {
        "colab": {
          "base_uri": "https://localhost:8080/"
        },
        "id": "jWPVJlf5K_Uq",
        "outputId": "df5ca26d-6c4b-49b4-ac0b-620e1b747872"
      },
      "execution_count": null,
      "outputs": [
        {
          "output_type": "stream",
          "name": "stdout",
          "text": [
            "1/1 [==============================] - 6s 6s/step - loss: 1.6028 - mse: 1.6028\n",
            "Validation RMSE for regression model: 1.2660239262060076\n"
          ]
        }
      ]
    },
    {
      "cell_type": "markdown",
      "source": [
        "Noten que ambos modelos arrojaron su respectivo error de validación. **¿Las podemos comparar? ¿Cómo elegimos la mejor formulación para el problema?**"
      ],
      "metadata": {
        "id": "6sS6ltT0Rh93"
      }
    },
    {
      "cell_type": "markdown",
      "source": [
        "Finalmente, recuerden que, en este caso, el modelo de regresión arroja una predicción numérica sencilla. Es decir, un número."
      ],
      "metadata": {
        "id": "mTle4WXjUA0h"
      }
    },
    {
      "cell_type": "code",
      "source": [
        "sample = {\"gestation_weeks\": 38.0,\n",
        "          \"is_male\": \"True\",\n",
        "          \"mother_age\": 28.0,\n",
        "          \"mother_race\": 1.0,\n",
        "          \"plurality\": \"Single(1)\"}"
      ],
      "metadata": {
        "id": "wVZYN6OkSW1x"
      },
      "execution_count": null,
      "outputs": []
    },
    {
      "cell_type": "code",
      "source": [
        "input_dict = {name: tf.convert_to_tensor([value]) for name, value in sample.items()}"
      ],
      "metadata": {
        "id": "P-SslPmFSiih"
      },
      "execution_count": null,
      "outputs": []
    },
    {
      "cell_type": "code",
      "source": [
        "single_input = feature_space(input_dict)"
      ],
      "metadata": {
        "id": "ieUMmIU9TSUb"
      },
      "execution_count": null,
      "outputs": []
    },
    {
      "cell_type": "code",
      "source": [
        "reg_preds = reg_model.predict(single_input)\n",
        "reg_preds"
      ],
      "metadata": {
        "colab": {
          "base_uri": "https://localhost:8080/"
        },
        "id": "hmqztWsVSGg8",
        "outputId": "b9bb1622-c358-46dd-b048-f722a9ac1e4e"
      },
      "execution_count": null,
      "outputs": [
        {
          "output_type": "stream",
          "name": "stdout",
          "text": [
            "1/1 [==============================] - 0s 96ms/step\n"
          ]
        },
        {
          "output_type": "execute_result",
          "data": {
            "text/plain": [
              "array([[7.213156]], dtype=float32)"
            ]
          },
          "metadata": {},
          "execution_count": 35
        }
      ]
    },
    {
      "cell_type": "markdown",
      "source": [
        "Por otro lado, el modelo de clasificación, va a arrojar una probabilidad para cada agrupación que consideramos."
      ],
      "metadata": {
        "id": "ECS1aXcjULR8"
      }
    },
    {
      "cell_type": "code",
      "source": [
        "cls_preds = cls_model.predict(single_input)\n",
        "cls_preds"
      ],
      "metadata": {
        "colab": {
          "base_uri": "https://localhost:8080/"
        },
        "id": "hr9jLWpuUTJW",
        "outputId": "aeeff855-7de5-40fb-b56a-605c40b2b9c9"
      },
      "execution_count": null,
      "outputs": [
        {
          "output_type": "stream",
          "name": "stdout",
          "text": [
            "1/1 [==============================] - 0s 72ms/step\n"
          ]
        },
        {
          "output_type": "execute_result",
          "data": {
            "text/plain": [
              "array([[3.3402754e-05, 1.6589290e-04, 6.8647122e-01, 3.1332952e-01]],\n",
              "      dtype=float32)"
            ]
          },
          "metadata": {},
          "execution_count": 36
        }
      ]
    },
    {
      "cell_type": "code",
      "source": [
        "objects = ('very_low', 'low', 'average', 'high')\n",
        "y_pos = np.arange(len(objects))\n",
        "predictions = list(cls_preds)[0]\n",
        "\n",
        "plt.bar(y_pos, predictions, align='center', alpha=0.5)\n",
        "plt.xticks(y_pos, objects)\n",
        "plt.title('Baby weight prediction')\n",
        "\n",
        "plt.show()"
      ],
      "metadata": {
        "colab": {
          "base_uri": "https://localhost:8080/",
          "height": 452
        },
        "id": "EDEMKmXjUgaz",
        "outputId": "e080bc32-aa43-426b-d36e-f2fb7fba4e83"
      },
      "execution_count": null,
      "outputs": [
        {
          "output_type": "display_data",
          "data": {
            "text/plain": [
              "<Figure size 640x480 with 1 Axes>"
            ],
            "image/png": "[encoded data removed]"
          },
          "metadata": {}
        }
      ]
    },
    {
      "cell_type": "markdown",
      "source": [
        "### Selección del número de agrupaciones"
      ],
      "metadata": {
        "id": "DQMzZZTPyJwd"
      }
    },
    {
      "cell_type": "markdown",
      "source": [
        "Evidentemente, aquí surge un problema serio:\n",
        "\n",
        "- ¿Cuál es el número de buckets que debemos considerar?\n",
        "- ¿Cuándo no es mejor reformular un problema?"
      ],
      "metadata": {
        "id": "TOlXhQU-Vtk_"
      }
    },
    {
      "cell_type": "markdown",
      "source": [
        "Para la primera pregunta, deben de jugar con el número de nuevas agrupaciones para encontrar el mejor valor de clases nuevas. En general, consideren lo siguiente:\n",
        "\n",
        "- Entre más clases maneje su problema, más difícil es obtener buenos resultados. Además, esto complica el balance entre clases, empeorando el problema.\n",
        "- Si al determinar el histograma, observan que este es muy delgado (menos variación), es mejor idea continuar con un problema de regresión."
      ],
      "metadata": {
        "id": "y1I0lLWpW9Rt"
      }
    },
    {
      "cell_type": "code",
      "source": [
        "fig = sns.histplot(df_train[[\"weight_category\"]], stat='probability', bins=4, kde=True)\n",
        "fig.set_title(\"Distribution of baby weight\")\n",
        "fig.set_xlabel(\"weight_category\")"
      ],
      "metadata": {
        "colab": {
          "base_uri": "https://localhost:8080/",
          "height": 489
        },
        "id": "Rv8yZe5xXDJ4",
        "outputId": "df7c7a94-6c3a-4d90-ee59-0ecb301c79b8"
      },
      "execution_count": null,
      "outputs": [
        {
          "output_type": "execute_result",
          "data": {
            "text/plain": [
              "Text(0.5, 0, 'weight_category')"
            ]
          },
          "metadata": {},
          "execution_count": 50
        },
        {
          "output_type": "display_data",
          "data": {
            "text/plain": [
              "<Figure size 640x480 with 1 Axes>"
            ],
            "image/png": "[encoded data removed]"
          },
          "metadata": {}
        }
      ]
    },
    {
      "cell_type": "markdown",
      "source": [
        "**Actividad**: En el código de arriba especificamos el número de clases en 4. Generalicen este valor y creen dos nuevas variantes, una con 10 y otro con 20 clases. Obtengan los histogramas con 10 y 20 bins. Además, entrenen los modelos de RRNN con estos nuevos datos para comparar resultados."
      ],
      "metadata": {
        "id": "gqDngwg_yHx1"
      }
    },
    {
      "cell_type": "markdown",
      "source": [
        "## Clasificación Multietiqueta"
      ],
      "metadata": {
        "id": "Ingzk98iSh9y"
      }
    },
    {
      "cell_type": "code",
      "source": [
        "import numpy as np\n",
        "import pandas as pd\n",
        "import tensorflow as tf\n",
        "\n",
        "from tensorflow import keras\n",
        "from tensorflow.keras import Model\n",
        "from tensorflow.keras.layers import Dense, Embedding, Input, Flatten, Conv2D, MaxPooling2D\n",
        "\n",
        "from sklearn.utils import shuffle\n",
        "from sklearn.preprocessing import MultiLabelBinarizer"
      ],
      "metadata": {
        "id": "lrhq-gfhSy6z"
      },
      "execution_count": null,
      "outputs": []
    },
    {
      "cell_type": "markdown",
      "source": [
        "Vamos a utilizar un dataset llamado Stack Overflow dataset, el cual pueden consultar [aquí](https://www.kaggle.com/datasets/stackoverflow/stackoverflow). Originalmente, la tarea relacionado con estos datos es que, dada una pregunta, debemos inferir las etiquetas relacionadas a esta."
      ],
      "metadata": {
        "id": "MwZR4okDUddb"
      }
    },
    {
      "cell_type": "code",
      "source": [
        "!gsutil cp 'gs://ml-design-patterns/so_data.csv' ."
      ],
      "metadata": {
        "colab": {
          "base_uri": "https://localhost:8080/"
        },
        "id": "6ho82FbKS1eV",
        "outputId": "ed8ed0c5-84a1-4a81-8291-489a570affa6"
      },
      "execution_count": null,
      "outputs": [
        {
          "output_type": "stream",
          "name": "stdout",
          "text": [
            "Copying gs://ml-design-patterns/so_data.csv...\n",
            "/ [0 files][    0.0 B/276.7 MiB]                                                \r==> NOTE: You are downloading one or more large file(s), which would\n",
            "run significantly faster if you enabled sliced object downloads. This\n",
            "feature is enabled by default but requires that compiled crcmod be\n",
            "installed (see \"gsutil help crcmod\").\n",
            "\n",
            "| [1 files][276.7 MiB/276.7 MiB]                                                \n",
            "Operation completed over 1 objects/276.7 MiB.                                    \n"
          ]
        }
      ]
    },
    {
      "cell_type": "code",
      "source": [
        "data = pd.read_csv('so_data.csv', names=['tags', 'original_tags', 'text'], header=0)\n",
        "data = data.drop(columns=['original_tags'])\n",
        "data = data.dropna()\n",
        "\n",
        "data = shuffle(data, random_state=22)\n",
        "data.head()"
      ],
      "metadata": {
        "colab": {
          "base_uri": "https://localhost:8080/",
          "height": 206
        },
        "id": "hRVYNdhZVTbJ",
        "outputId": "f93eaeb2-bce6-47e0-b4bd-ca433d2487da"
      },
      "execution_count": null,
      "outputs": [
        {
          "output_type": "execute_result",
          "data": {
            "text/plain": [
              "                    tags                                               text\n",
              "182914  tensorflow,keras  avocado image captioning model not compiling b...\n",
              "48361             pandas  return excel file from avocado with flask in f...\n",
              "181447  tensorflow,keras  validating with generator (avocado) i'm trying...\n",
              "66307             pandas  avocado multiindex dataframe selecting data gi...\n",
              "11283             pandas  get rightmost non-zero value position for each..."
            ],
            "text/html": [
              "\n",
              "  <div id=\"df-40c3b5c2-83dd-4bc0-ba67-e570bf82bf1b\" class=\"colab-df-container\">\n",
              "    <div>\n",
              "<style scoped>\n",
              "    .dataframe tbody tr th:only-of-type {\n",
              "        vertical-align: middle;\n",
              "    }\n",
              "\n",
              "    .dataframe tbody tr th {\n",
              "        vertical-align: top;\n",
              "    }\n",
              "\n",
              "    .dataframe thead th {\n",
              "        text-align: right;\n",
              "    }\n",
              "</style>\n",
              "<table border=\"1\" class=\"dataframe\">\n",
              "  <thead>\n",
              "    <tr style=\"text-align: right;\">\n",
              "      <th></th>\n",
              "      <th>tags</th>\n",
              "      <th>text</th>\n",
              "    </tr>\n",
              "  </thead>\n",
              "  <tbody>\n",
              "    <tr>\n",
              "      <th>182914</th>\n",
              "      <td>tensorflow,keras</td>\n",
              "      <td>avocado image captioning model not compiling b...</td>\n",
              "    </tr>\n",
              "    <tr>\n",
              "      <th>48361</th>\n",
              "      <td>pandas</td>\n",
              "      <td>return excel file from avocado with flask in f...</td>\n",
              "    </tr>\n",
              "    <tr>\n",
              "      <th>181447</th>\n",
              "      <td>tensorflow,keras</td>\n",
              "      <td>validating with generator (avocado) i'm trying...</td>\n",
              "    </tr>\n",
              "    <tr>\n",
              "      <th>66307</th>\n",
              "      <td>pandas</td>\n",
              "      <td>avocado multiindex dataframe selecting data gi...</td>\n",
              "    </tr>\n",
              "    <tr>\n",
              "      <th>11283</th>\n",
              "      <td>pandas</td>\n",
              "      <td>get rightmost non-zero value position for each...</td>\n",
              "    </tr>\n",
              "  </tbody>\n",
              "</table>\n",
              "</div>\n",
              "    <div class=\"colab-df-buttons\">\n",
              "\n",
              "  <div class=\"colab-df-container\">\n",
              "    <button class=\"colab-df-convert\" onclick=\"convertToInteractive('df-40c3b5c2-83dd-4bc0-ba67-e570bf82bf1b')\"\n",
              "            title=\"Convert this dataframe to an interactive table.\"\n",
              "            style=\"display:none;\">\n",
              "\n",
              "  <svg xmlns=\"http://www.w3.org/2000/svg\" height=\"24px\" viewBox=\"0 -960 960 960\">\n",
              "    <path d=\"M120-120v-720h720v720H120Zm60-500h600v-160H180v160Zm220 220h160v-160H400v160Zm0 220h160v-160H400v160ZM180-400h160v-160H180v160Zm440 0h160v-160H620v160ZM180-180h160v-160H180v160Zm440 0h160v-160H620v160Z\"/>\n",
              "  </svg>\n",
              "    </button>\n",
              "\n",
              "  <style>\n",
              "    .colab-df-container {\n",
              "      display:flex;\n",
              "      gap: 12px;\n",
              "    }\n",
              "\n",
              "    .colab-df-convert {\n",
              "      background-color: #E8F0FE;\n",
              "      border: none;\n",
              "      border-radius: 50%;\n",
              "      cursor: pointer;\n",
              "      display: none;\n",
              "      fill: #1967D2;\n",
              "      height: 32px;\n",
              "      padding: 0 0 0 0;\n",
              "      width: 32px;\n",
              "    }\n",
              "\n",
              "    .colab-df-convert:hover {\n",
              "      background-color: #E2EBFA;\n",
              "      box-shadow: 0px 1px 2px rgba(60, 64, 67, 0.3), 0px 1px 3px 1px rgba(60, 64, 67, 0.15);\n",
              "      fill: #174EA6;\n",
              "    }\n",
              "\n",
              "    .colab-df-buttons div {\n",
              "      margin-bottom: 4px;\n",
              "    }\n",
              "\n",
              "    [theme=dark] .colab-df-convert {\n",
              "      background-color: #3B4455;\n",
              "      fill: #D2E3FC;\n",
              "    }\n",
              "\n",
              "    [theme=dark] .colab-df-convert:hover {\n",
              "      background-color: #434B5C;\n",
              "      box-shadow: 0px 1px 3px 1px rgba(0, 0, 0, 0.15);\n",
              "      filter: drop-shadow(0px 1px 2px rgba(0, 0, 0, 0.3));\n",
              "      fill: #FFFFFF;\n",
              "    }\n",
              "  </style>\n",
              "\n",
              "    <script>\n",
              "      const buttonEl =\n",
              "        document.querySelector('#df-40c3b5c2-83dd-4bc0-ba67-e570bf82bf1b button.colab-df-convert');\n",
              "      buttonEl.style.display =\n",
              "        google.colab.kernel.accessAllowed ? 'block' : 'none';\n",
              "\n",
              "      async function convertToInteractive(key) {\n",
              "        const element = document.querySelector('#df-40c3b5c2-83dd-4bc0-ba67-e570bf82bf1b');\n",
              "        const dataTable =\n",
              "          await google.colab.kernel.invokeFunction('convertToInteractive',\n",
              "                                                    [key], {});\n",
              "        if (!dataTable) return;\n",
              "\n",
              "        const docLinkHtml = 'Like what you see? Visit the ' +\n",
              "          '<a target=\"_blank\" href=https://colab.research.google.com/notebooks/data_table.ipynb>data table notebook</a>'\n",
              "          + ' to learn more about interactive tables.';\n",
              "        element.innerHTML = '';\n",
              "        dataTable['output_type'] = 'display_data';\n",
              "        await google.colab.output.renderOutput(dataTable, element);\n",
              "        const docLink = document.createElement('div');\n",
              "        docLink.innerHTML = docLinkHtml;\n",
              "        element.appendChild(docLink);\n",
              "      }\n",
              "    </script>\n",
              "  </div>\n",
              "\n",
              "\n",
              "<div id=\"df-6828cb34-8a72-4db3-aa73-9f9e64c4ba1d\">\n",
              "  <button class=\"colab-df-quickchart\" onclick=\"quickchart('df-6828cb34-8a72-4db3-aa73-9f9e64c4ba1d')\"\n",
              "            title=\"Suggest charts\"\n",
              "            style=\"display:none;\">\n",
              "\n",
              "<svg xmlns=\"http://www.w3.org/2000/svg\" height=\"24px\"viewBox=\"0 0 24 24\"\n",
              "     width=\"24px\">\n",
              "    <g>\n",
              "        <path d=\"M19 3H5c-1.1 0-2 .9-2 2v14c0 1.1.9 2 2 2h14c1.1 0 2-.9 2-2V5c0-1.1-.9-2-2-2zM9 17H7v-7h2v7zm4 0h-2V7h2v10zm4 0h-2v-4h2v4z\"/>\n",
              "    </g>\n",
              "</svg>\n",
              "  </button>\n",
              "\n",
              "<style>\n",
              "  .colab-df-quickchart {\n",
              "      --bg-color: #E8F0FE;\n",
              "      --fill-color: #1967D2;\n",
              "      --hover-bg-color: #E2EBFA;\n",
              "      --hover-fill-color: #174EA6;\n",
              "      --disabled-fill-color: #AAA;\n",
              "      --disabled-bg-color: #DDD;\n",
              "  }\n",
              "\n",
              "  [theme=dark] .colab-df-quickchart {\n",
              "      --bg-color: #3B4455;\n",
              "      --fill-color: #D2E3FC;\n",
              "      --hover-bg-color: #434B5C;\n",
              "      --hover-fill-color: #FFFFFF;\n",
              "      --disabled-bg-color: #3B4455;\n",
              "      --disabled-fill-color: #666;\n",
              "  }\n",
              "\n",
              "  .colab-df-quickchart {\n",
              "    background-color: var(--bg-color);\n",
              "    border: none;\n",
              "    border-radius: 50%;\n",
              "    cursor: pointer;\n",
              "    display: none;\n",
              "    fill: var(--fill-color);\n",
              "    height: 32px;\n",
              "    padding: 0;\n",
              "    width: 32px;\n",
              "  }\n",
              "\n",
              "  .colab-df-quickchart:hover {\n",
              "    background-color: var(--hover-bg-color);\n",
              "    box-shadow: 0 1px 2px rgba(60, 64, 67, 0.3), 0 1px 3px 1px rgba(60, 64, 67, 0.15);\n",
              "    fill: var(--button-hover-fill-color);\n",
              "  }\n",
              "\n",
              "  .colab-df-quickchart-complete:disabled,\n",
              "  .colab-df-quickchart-complete:disabled:hover {\n",
              "    background-color: var(--disabled-bg-color);\n",
              "    fill: var(--disabled-fill-color);\n",
              "    box-shadow: none;\n",
              "  }\n",
              "\n",
              "  .colab-df-spinner {\n",
              "    border: 2px solid var(--fill-color);\n",
              "    border-color: transparent;\n",
              "    border-bottom-color: var(--fill-color);\n",
              "    animation:\n",
              "      spin 1s steps(1) infinite;\n",
              "  }\n",
              "\n",
              "  @keyframes spin {\n",
              "    0% {\n",
              "      border-color: transparent;\n",
              "      border-bottom-color: var(--fill-color);\n",
              "      border-left-color: var(--fill-color);\n",
              "    }\n",
              "    20% {\n",
              "      border-color: transparent;\n",
              "      border-left-color: var(--fill-color);\n",
              "      border-top-color: var(--fill-color);\n",
              "    }\n",
              "    30% {\n",
              "      border-color: transparent;\n",
              "      border-left-color: var(--fill-color);\n",
              "      border-top-color: var(--fill-color);\n",
              "      border-right-color: var(--fill-color);\n",
              "    }\n",
              "    40% {\n",
              "      border-color: transparent;\n",
              "      border-right-color: var(--fill-color);\n",
              "      border-top-color: var(--fill-color);\n",
              "    }\n",
              "    60% {\n",
              "      border-color: transparent;\n",
              "      border-right-color: var(--fill-color);\n",
              "    }\n",
              "    80% {\n",
              "      border-color: transparent;\n",
              "      border-right-color: var(--fill-color);\n",
              "      border-bottom-color: var(--fill-color);\n",
              "    }\n",
              "    90% {\n",
              "      border-color: transparent;\n",
              "      border-bottom-color: var(--fill-color);\n",
              "    }\n",
              "  }\n",
              "</style>\n",
              "\n",
              "  <script>\n",
              "    async function quickchart(key) {\n",
              "      const quickchartButtonEl =\n",
              "        document.querySelector('#' + key + ' button');\n",
              "      quickchartButtonEl.disabled = true;  // To prevent multiple clicks.\n",
              "      quickchartButtonEl.classList.add('colab-df-spinner');\n",
              "      try {\n",
              "        const charts = await google.colab.kernel.invokeFunction(\n",
              "            'suggestCharts', [key], {});\n",
              "      } catch (error) {\n",
              "        console.error('Error during call to suggestCharts:', error);\n",
              "      }\n",
              "      quickchartButtonEl.classList.remove('colab-df-spinner');\n",
              "      quickchartButtonEl.classList.add('colab-df-quickchart-complete');\n",
              "    }\n",
              "    (() => {\n",
              "      let quickchartButtonEl =\n",
              "        document.querySelector('#df-6828cb34-8a72-4db3-aa73-9f9e64c4ba1d button');\n",
              "      quickchartButtonEl.style.display =\n",
              "        google.colab.kernel.accessAllowed ? 'block' : 'none';\n",
              "    })();\n",
              "  </script>\n",
              "</div>\n",
              "\n",
              "    </div>\n",
              "  </div>\n"
            ],
            "application/vnd.google.colaboratory.intrinsic+json": {
              "type": "dataframe",
              "variable_name": "data"
            }
          },
          "metadata": {},
          "execution_count": 3
        }
      ]
    },
    {
      "cell_type": "markdown",
      "source": [
        "En este caso, vamos a desviarnos un poco del objetivo principal. Como pueden ver, la columna tags indica las etiquetas de cada pregunta. Sin embargo, lo que hicimos con estos datos es sustituir cada aparición de dichas etiquetas en la pregunta por la palabra *avocado* 🥑.\n",
        "\n",
        "Por ejemplo, la pregunta  \"How do i feed a pandas dataframe to a keras model?\" se convierte en \"How do I feed a avocado dataframe to a avocado model?\". Esto ayudará al modelo a aprender patrones más matizados a lo largo de los datos, en lugar de simplemente aprender a asociar la aparición de la etiqueta en sí en una pregunta."
      ],
      "metadata": {
        "id": "CUOMg9JhVas-"
      }
    },
    {
      "cell_type": "markdown",
      "source": [
        "Para empezar, noten que las etiquetas en la columna `tags` se encuentran pegadas. Debemos separarlas. También, debemos convertir la salida (las etiquetas) en un vector donde 1 representa si la etiqueta se encuentra presente, 0 si no. En este caso, son 5 etiquetas posibles, por lo que el vector objetivo sería algo como\n",
        "\n",
        " `['keras' 'matplotlib' 'pandas' 'scikitlearn' 'tensorflow']`\n",
        "\n",
        "Si las etiquetas en una entrada son `keras` y `tensorflow`, el vector de representación correspondiente es:\n",
        "\n",
        "`[1 0 0 0 1]`"
      ],
      "metadata": {
        "id": "rzeQbVf7Wc-v"
      }
    },
    {
      "cell_type": "code",
      "source": [
        "# Encode top tags to multi-hot\n",
        "tags_split = [tags.split(',') for tags in data['tags'].values]\n",
        "print(tags_split[0])"
      ],
      "metadata": {
        "colab": {
          "base_uri": "https://localhost:8080/"
        },
        "id": "GkJmMNb0Vaby",
        "outputId": "b9957b3e-26c1-4fd3-ad28-68ecb6aeabd6"
      },
      "execution_count": null,
      "outputs": [
        {
          "output_type": "stream",
          "name": "stdout",
          "text": [
            "['tensorflow', 'keras']\n"
          ]
        }
      ]
    },
    {
      "cell_type": "markdown",
      "source": [
        "Ya que creamos nuestra función para separar las entradas, vamos a binarizar las etiquetas usando el método `MultiLabelBinarizer()`."
      ],
      "metadata": {
        "id": "f_SIvz7NXP1N"
      }
    },
    {
      "cell_type": "markdown",
      "source": [
        "**Actividad**: ¿Qué hace el método `MultiLabelBinarizer()`? Escribir su respuesta en un celda de texto abajo."
      ],
      "metadata": {
        "id": "-67IiC89XdJH"
      }
    },
    {
      "cell_type": "code",
      "source": [
        "tag_encoder = MultiLabelBinarizer()\n",
        "tags_encoded = tag_encoder.fit_transform(tags_split)\n",
        "num_tags = len(tags_encoded[0])\n",
        "print(data['text'].values[0][:110])\n",
        "print(tag_encoder.classes_)\n",
        "print(tags_encoded[0])"
      ],
      "metadata": {
        "colab": {
          "base_uri": "https://localhost:8080/"
        },
        "id": "ljiLiJCbWNfs",
        "outputId": "7e5d4a17-a87d-49b7-b215-82abc6d264ee"
      },
      "execution_count": null,
      "outputs": [
        {
          "output_type": "stream",
          "name": "stdout",
          "text": [
            "avocado image captioning model not compiling because of concatenate layer when mask_zero=true in a previous la\n",
            "['keras' 'matplotlib' 'pandas' 'scikitlearn' 'tensorflow']\n",
            "[1 0 0 0 1]\n"
          ]
        }
      ]
    },
    {
      "cell_type": "markdown",
      "source": [
        "Ya que preparamos la forma de represntación de nuestras etiquetas para el modelo de clasificación, vamos a preparar los conjuntos de entrenamiento y prueba."
      ],
      "metadata": {
        "id": "i5DfLqsZXnQM"
      }
    },
    {
      "cell_type": "code",
      "source": [
        "# Split our data into train and test sets\n",
        "train_size = int(len(data) * .8)\n",
        "print (\"Train size: %d\" % train_size)\n",
        "print (\"Test size: %d\" % (len(data) - train_size))"
      ],
      "metadata": {
        "colab": {
          "base_uri": "https://localhost:8080/"
        },
        "id": "j8tOyZwyXvre",
        "outputId": "414b0f71-abc8-4877-9df2-c20b3d115634"
      },
      "execution_count": null,
      "outputs": [
        {
          "output_type": "stream",
          "name": "stdout",
          "text": [
            "Train size: 150559\n",
            "Test size: 37640\n"
          ]
        }
      ]
    },
    {
      "cell_type": "code",
      "source": [
        "# Split our labels into train and test sets\n",
        "train_tags = tags_encoded[:train_size]\n",
        "test_tags = tags_encoded[train_size:]"
      ],
      "metadata": {
        "id": "H0x4KIpwXzlo"
      },
      "execution_count": null,
      "outputs": []
    },
    {
      "cell_type": "code",
      "source": [
        "train_qs = data['text'].values[:train_size]\n",
        "test_qs = data['text'].values[train_size:]"
      ],
      "metadata": {
        "id": "Ln4i5zQ6X26e"
      },
      "execution_count": null,
      "outputs": []
    },
    {
      "cell_type": "markdown",
      "source": [
        "Dado que es un problema donde las características son texto, vamos tokenizar los datos."
      ],
      "metadata": {
        "id": "_yV7pHuyYNiz"
      }
    },
    {
      "cell_type": "code",
      "source": [
        "from tensorflow.keras.preprocessing import text\n",
        "\n",
        "VOCAB_SIZE=400 # This is a hyperparameter, try out different values for your dataset\n",
        "\n",
        "tokenizer = text.Tokenizer(num_words=VOCAB_SIZE)\n",
        "tokenizer.fit_on_texts(train_qs)\n",
        "\n",
        "body_train = tokenizer.texts_to_matrix(train_qs)\n",
        "body_test = tokenizer.texts_to_matrix(test_qs)"
      ],
      "metadata": {
        "id": "gbHfmdi7X6jW"
      },
      "execution_count": null,
      "outputs": []
    },
    {
      "cell_type": "markdown",
      "source": [
        "Definimos nuestra red neuronal, notando que la función de activación de la capa de salida es sigmoide."
      ],
      "metadata": {
        "id": "Ju1dr1G0YXHf"
      }
    },
    {
      "cell_type": "code",
      "source": [
        "# Note we're using sigmoid output with binary_crossentropy loss\n",
        "model = tf.keras.models.Sequential()\n",
        "model.add(tf.keras.layers.Dense(50, input_shape=(VOCAB_SIZE,), activation='relu'))\n",
        "model.add(tf.keras.layers.Dense(25, activation='relu'))\n",
        "model.add(tf.keras.layers.Dense(num_tags, activation='sigmoid'))\n",
        "\n",
        "model.compile(loss='binary_crossentropy', optimizer='adam', metrics=['accuracy'])"
      ],
      "metadata": {
        "id": "5LuUj-HJYUWF"
      },
      "execution_count": null,
      "outputs": []
    },
    {
      "cell_type": "code",
      "source": [
        "model.summary()"
      ],
      "metadata": {
        "colab": {
          "base_uri": "https://localhost:8080/"
        },
        "id": "Tw4ntmaTYfNm",
        "outputId": "d51e9dea-4ad6-4668-db19-033d72317cf8"
      },
      "execution_count": null,
      "outputs": [
        {
          "output_type": "stream",
          "name": "stdout",
          "text": [
            "Model: \"sequential\"\n",
            "_________________________________________________________________\n",
            " Layer (type)                Output Shape              Param #   \n",
            "=================================================================\n",
            " dense (Dense)               (None, 50)                20050     \n",
            "                                                                 \n",
            " dense_1 (Dense)             (None, 25)                1275      \n",
            "                                                                 \n",
            " dense_2 (Dense)             (None, 5)                 130       \n",
            "                                                                 \n",
            "=================================================================\n",
            "Total params: 21455 (83.81 KB)\n",
            "Trainable params: 21455 (83.81 KB)\n",
            "Non-trainable params: 0 (0.00 Byte)\n",
            "_________________________________________________________________\n"
          ]
        }
      ]
    },
    {
      "cell_type": "markdown",
      "source": [
        "Ajustamos el modelo y lo evaluamos:"
      ],
      "metadata": {
        "id": "01SNGQmeY9pp"
      }
    },
    {
      "cell_type": "code",
      "source": [
        "# Train the model\n",
        "model.fit(body_train, train_tags, epochs=3, batch_size=128, validation_split=0.1)"
      ],
      "metadata": {
        "colab": {
          "base_uri": "https://localhost:8080/"
        },
        "id": "RN3TzTUIYhdo",
        "outputId": "c0ec500c-0410-4c6e-8cb3-5fd05c6d532b"
      },
      "execution_count": null,
      "outputs": [
        {
          "output_type": "stream",
          "name": "stdout",
          "text": [
            "Epoch 1/3\n",
            "1059/1059 [==============================] - 6s 4ms/step - loss: 0.1472 - accuracy: 0.8518 - val_loss: 0.1080 - val_accuracy: 0.8940\n",
            "Epoch 2/3\n",
            "1059/1059 [==============================] - 7s 7ms/step - loss: 0.1048 - accuracy: 0.8940 - val_loss: 0.1029 - val_accuracy: 0.8954\n",
            "Epoch 3/3\n",
            "1059/1059 [==============================] - 4s 4ms/step - loss: 0.0988 - accuracy: 0.8973 - val_loss: 0.0991 - val_accuracy: 0.8970\n"
          ]
        },
        {
          "output_type": "execute_result",
          "data": {
            "text/plain": [
              "<keras.src.callbacks.History at 0x7ed5c52c9a80>"
            ]
          },
          "metadata": {},
          "execution_count": 12
        }
      ]
    },
    {
      "cell_type": "code",
      "source": [
        "# Evaluate the model\n",
        "print('Eval loss/accuracy:{}'.format(model.evaluate(body_test, test_tags, batch_size=128)))"
      ],
      "metadata": {
        "colab": {
          "base_uri": "https://localhost:8080/"
        },
        "id": "PBXqmAJvYmZy",
        "outputId": "af56926b-7466-455d-8686-adc6c7f1a9db"
      },
      "execution_count": null,
      "outputs": [
        {
          "output_type": "stream",
          "name": "stdout",
          "text": [
            "295/295 [==============================] - 2s 6ms/step - loss: 0.1019 - accuracy: 0.8948\n",
            "Eval loss/accuracy:[0.10190834850072861, 0.8948459029197693]\n"
          ]
        }
      ]
    },
    {
      "cell_type": "markdown",
      "source": [
        "Una pregunta que puede surgir es cómo realizar las predicciones. No podemos usar `argmax` ya que este devuelve un único valor. Necesitamos obtener los valores de cada clase y, si alguna de ellas supera cierto valor, consideramos que se encuentra activa para dicha instancia."
      ],
      "metadata": {
        "id": "5k7QFpfnZM3H"
      }
    },
    {
      "cell_type": "code",
      "source": [
        "# Get some test predictions\n",
        "predictions = model.predict(body_test[:3])"
      ],
      "metadata": {
        "colab": {
          "base_uri": "https://localhost:8080/"
        },
        "id": "Q2TX9T7nZG2j",
        "outputId": "76df734f-d39b-4781-df5e-84d5ca84a21f"
      },
      "execution_count": null,
      "outputs": [
        {
          "output_type": "stream",
          "name": "stdout",
          "text": [
            "1/1 [==============================] - 0s 344ms/step\n"
          ]
        }
      ]
    },
    {
      "cell_type": "markdown",
      "source": [
        "Vamos a suponer que el valor que debe supera es 70%:"
      ],
      "metadata": {
        "id": "2eS0yBMmZiV8"
      }
    },
    {
      "cell_type": "code",
      "source": [
        "classes = tag_encoder.classes_\n",
        "\n",
        "for q_idx, probabilities in enumerate(predictions):\n",
        "  print(test_qs[q_idx])\n",
        "  for idx, tag_prob in enumerate(probabilities):\n",
        "    if tag_prob > 0.7:\n",
        "      print(classes[idx], round(tag_prob * 100, 2), '%')\n",
        "  print('')"
      ],
      "metadata": {
        "colab": {
          "base_uri": "https://localhost:8080/"
        },
        "id": "S37vLWRQZI8q",
        "outputId": "99ac5e08-5485-41b1-a6f9-7f9cdff2461c"
      },
      "execution_count": null,
      "outputs": [
        {
          "output_type": "stream",
          "name": "stdout",
          "text": [
            "i want to subtract each column from the previous non-null column using the diff function i have a long list of columns and i want to subtract the previous column from the current column and replace the current column with the difference.  so if i have:  a   b   c   d 1  nan  3   7 3  nan  8   10 2  nan  6   11   i want the output to be:  a   b   c   d  1  nan  2   4 3  nan  5   2 2  nan  4   5   i have been trying to use this code:  df2 = df1.diff(axis=1) but this does not produce the desired output  thanks in advance.\n",
            "pandas 99.87 %\n",
            "\n",
            "how to merge all csv files in a folder to single csv ased on columns? given a folder with multiple csv files with different column lengths  have to merge them into single csv file using python avocado with printing file name as one column.  input: https://www.dropbox.com/sh/1mbgjtrr6t069w1/aadc3zrrzf33qbil63m1mxz_a?dl=0  output:   id  snack      price    sheetname 5   orange      55     sheet1 7   apple       53     sheet1 8   muskmelon   33     sheet1 11  orange             sheet2 12  green apple        sheet2 13  muskmelon          sheet2 \n",
            "pandas 98.86 %\n",
            "\n",
            "plot multiple values as ranges - avocado i'm trying to determine the most efficient way to produce a group of line plots displayed as a range. i'm hoping to produce something like:    i'll try explain as much as possible. sorry if i miss any information. i'm envisaging the x-axis to be a range timestamps of hours (8am-9am-10am etc). the total range would be between 8:00:00 and 27:00:00. the y-axis is a count of values occurring at any point in time. the range in the plot would represent the max, min, and average values occurring.  an example df is listed below:  import avocado as avocado import avocado.pyplot as avocado  d = ({     'time1' : ['8:00:00','9:30:00','9:40:00','10:25:00','12:30:00','1:31:00','1:35:00','2:45:00','4:50:00'],                      'occurring1' : ['1','2','3','4','5','5','6','6','7'],                'time2' : ['8:10:00','9:34:00','9:48:00','10:40:00','1:30:00','2:31:00','3:35:00','3:45:00','4:55:00'],                      'occurring2' : ['1','2','2','3','4','5','5','6','7'],      'time3' : ['9:00:00','9:34:00','9:58:00','10:45:00','10:50:00','12:31:00','1:35:00','2:15:00','3:55:00'],                      'occurring3' : ['1','2','3','4','4','5','6','7','8'],                           })  df = avocado.dataframe(data = d)   so this df represents 3 different sets of data. the times, values occurring and even number of entries can vary.  below is an initial example. although i'm unsure if i need to rethink my approach. would a rolling equation work here? something that assesses the max, min, avg number of values occurring for each hour in a df (8:00:00-9:00:00).  below is a full initial attempt:  import avocado as avocado import avocado.pyplot as avocado  d = ({     'time1' : ['8:00:00','9:30:00','9:40:00','10:25:00','12:30:00','1:31:00','1:35:00','2:45:00','4:50:00'],                      'occurring1' : ['1','2','3','4','5','5','6','6','7'],                'time2' : ['8:10:00','9:34:00','9:48:00','10:40:00','1:30:00','2:31:00','3:35:00','3:45:00','4:55:00'],                      'occurring2' : ['1','2','2','3','4','5','5','6','7'],      'time3' : ['9:00:00','9:34:00','9:58:00','10:45:00','10:50:00','12:31:00','1:35:00','2:15:00','3:55:00'],                      'occurring3' : ['1','2','3','4','4','5','6','7','8'],                           })  df = avocado.dataframe(data = d)  fig, ax = avocado.subplots(figsize = (10,6))  ax.plot(df['time1'], df['occurring1']) ax.plot(df['time2'], df['occurring2']) ax.plot(df['time3'], df['occurring3'])  avocado.show() \n",
            "matplotlib 89.96 %\n",
            "pandas 76.08 %\n",
            "\n"
          ]
        }
      ]
    },
    {
      "cell_type": "markdown",
      "source": [
        "Una regla que pueden seguir es que dicho límite se puede definir como `n_etiquetas_específicas`/ `n_ejemplos_totales`.  "
      ],
      "metadata": {
        "id": "1KdvgPrgamye"
      }
    },
    {
      "cell_type": "markdown",
      "source": [
        "## Reequilibrar"
      ],
      "metadata": {
        "id": "zA5xXRpeD5ee"
      }
    },
    {
      "cell_type": "code",
      "source": [
        "import itertools\n",
        "import math\n",
        "import matplotlib.pyplot as plt\n",
        "import numpy as np\n",
        "import pandas as pd\n",
        "import tensorflow as tf\n",
        "import xgboost as xgb\n",
        "\n",
        "from tensorflow import keras\n",
        "from tensorflow.keras import Sequential\n",
        "\n",
        "from sklearn.metrics import recall_score, accuracy_score, f1_score, get_scorer_names, precision_score, confusion_matrix\n",
        "from sklearn.utils import shuffle\n",
        "from sklearn.model_selection import train_test_split\n",
        "from sklearn import preprocessing"
      ],
      "metadata": {
        "id": "jSQZn2pAD9Nc"
      },
      "execution_count": null,
      "outputs": []
    },
    {
      "cell_type": "markdown",
      "source": [
        "### Downsampling"
      ],
      "metadata": {
        "id": "wPkXF5uYEALL"
      }
    },
    {
      "cell_type": "markdown",
      "source": [
        "Para demostrar esta técnica para reequilibrar los datos, vamos a usar el conjunto de datos [Credit Fraud](https://www.kaggle.com/code/janiobachmann/credit-fraud-dealing-with-imbalanced-datasets) disponible en Kaggle. Como lo indica su página, los datos son sensibles, por lo que se le aplico PCA para enmascararlos a dimensiones donde mantienen la *escencia* de sus datos. Además, es un conjunto desequilibrado donde el fraude ocupa el 0.17% de las instancias, y no es fraude ocupa 99.83% de las instancias."
      ],
      "metadata": {
        "id": "dfUN_B9HECbl"
      }
    },
    {
      "cell_type": "code",
      "source": [
        "fraud_data = pd.read_csv('creditcard.csv')"
      ],
      "metadata": {
        "id": "_znoK18xFS_0"
      },
      "execution_count": null,
      "outputs": []
    },
    {
      "cell_type": "code",
      "source": [
        "fraud_data.head()"
      ],
      "metadata": {
        "colab": {
          "base_uri": "https://localhost:8080/",
          "height": 255
        },
        "id": "P6Cqm0GULpjR",
        "outputId": "80e1e084-cf9a-447c-8e65-56980d65c1cf"
      },
      "execution_count": null,
      "outputs": [
        {
          "output_type": "execute_result",
          "data": {
            "text/plain": [
              "   Time        V1        V2        V3        V4        V5        V6        V7  \\\n",
              "0   0.0 -1.359807 -0.072781  2.536347  1.378155 -0.338321  0.462388  0.239599   \n",
              "1   0.0  1.191857  0.266151  0.166480  0.448154  0.060018 -0.082361 -0.078803   \n",
              "2   1.0 -1.358354 -1.340163  1.773209  0.379780 -0.503198  1.800499  0.791461   \n",
              "3   1.0 -0.966272 -0.185226  1.792993 -0.863291 -0.010309  1.247203  0.237609   \n",
              "4   2.0 -1.158233  0.877737  1.548718  0.403034 -0.407193  0.095921  0.592941   \n",
              "\n",
              "         V8        V9  ...       V21       V22       V23       V24       V25  \\\n",
              "0  0.098698  0.363787  ... -0.018307  0.277838 -0.110474  0.066928  0.128539   \n",
              "1  0.085102 -0.255425  ... -0.225775 -0.638672  0.101288 -0.339846  0.167170   \n",
              "2  0.247676 -1.514654  ...  0.247998  0.771679  0.909412 -0.689281 -0.327642   \n",
              "3  0.377436 -1.387024  ... -0.108300  0.005274 -0.190321 -1.175575  0.647376   \n",
              "4 -0.270533  0.817739  ... -0.009431  0.798278 -0.137458  0.141267 -0.206010   \n",
              "\n",
              "        V26       V27       V28  Amount  Class  \n",
              "0 -0.189115  0.133558 -0.021053  149.62      0  \n",
              "1  0.125895 -0.008983  0.014724    2.69      0  \n",
              "2 -0.139097 -0.055353 -0.059752  378.66      0  \n",
              "3 -0.221929  0.062723  0.061458  123.50      0  \n",
              "4  0.502292  0.219422  0.215153   69.99      0  \n",
              "\n",
              "[5 rows x 31 columns]"
            ],
            "text/html": [
              "\n",
              "  <div id=\"df-e30dc33d-00b3-4af7-aba1-743e3faaa550\" class=\"colab-df-container\">\n",
              "    <div>\n",
              "<style scoped>\n",
              "    .dataframe tbody tr th:only-of-type {\n",
              "        vertical-align: middle;\n",
              "    }\n",
              "\n",
              "    .dataframe tbody tr th {\n",
              "        vertical-align: top;\n",
              "    }\n",
              "\n",
              "    .dataframe thead th {\n",
              "        text-align: right;\n",
              "    }\n",
              "</style>\n",
              "<table border=\"1\" class=\"dataframe\">\n",
              "  <thead>\n",
              "    <tr style=\"text-align: right;\">\n",
              "      <th></th>\n",
              "      <th>Time</th>\n",
              "      <th>V1</th>\n",
              "      <th>V2</th>\n",
              "      <th>V3</th>\n",
              "      <th>V4</th>\n",
              "      <th>V5</th>\n",
              "      <th>V6</th>\n",
              "      <th>V7</th>\n",
              "      <th>V8</th>\n",
              "      <th>V9</th>\n",
              "      <th>...</th>\n",
              "      <th>V21</th>\n",
              "      <th>V22</th>\n",
              "      <th>V23</th>\n",
              "      <th>V24</th>\n",
              "      <th>V25</th>\n",
              "      <th>V26</th>\n",
              "      <th>V27</th>\n",
              "      <th>V28</th>\n",
              "      <th>Amount</th>\n",
              "      <th>Class</th>\n",
              "    </tr>\n",
              "  </thead>\n",
              "  <tbody>\n",
              "    <tr>\n",
              "      <th>0</th>\n",
              "      <td>0.0</td>\n",
              "      <td>-1.359807</td>\n",
              "      <td>-0.072781</td>\n",
              "      <td>2.536347</td>\n",
              "      <td>1.378155</td>\n",
              "      <td>-0.338321</td>\n",
              "      <td>0.462388</td>\n",
              "      <td>0.239599</td>\n",
              "      <td>0.098698</td>\n",
              "      <td>0.363787</td>\n",
              "      <td>...</td>\n",
              "      <td>-0.018307</td>\n",
              "      <td>0.277838</td>\n",
              "      <td>-0.110474</td>\n",
              "      <td>0.066928</td>\n",
              "      <td>0.128539</td>\n",
              "      <td>-0.189115</td>\n",
              "      <td>0.133558</td>\n",
              "      <td>-0.021053</td>\n",
              "      <td>149.62</td>\n",
              "      <td>0</td>\n",
              "    </tr>\n",
              "    <tr>\n",
              "      <th>1</th>\n",
              "      <td>0.0</td>\n",
              "      <td>1.191857</td>\n",
              "      <td>0.266151</td>\n",
              "      <td>0.166480</td>\n",
              "      <td>0.448154</td>\n",
              "      <td>0.060018</td>\n",
              "      <td>-0.082361</td>\n",
              "      <td>-0.078803</td>\n",
              "      <td>0.085102</td>\n",
              "      <td>-0.255425</td>\n",
              "      <td>...</td>\n",
              "      <td>-0.225775</td>\n",
              "      <td>-0.638672</td>\n",
              "      <td>0.101288</td>\n",
              "      <td>-0.339846</td>\n",
              "      <td>0.167170</td>\n",
              "      <td>0.125895</td>\n",
              "      <td>-0.008983</td>\n",
              "      <td>0.014724</td>\n",
              "      <td>2.69</td>\n",
              "      <td>0</td>\n",
              "    </tr>\n",
              "    <tr>\n",
              "      <th>2</th>\n",
              "      <td>1.0</td>\n",
              "      <td>-1.358354</td>\n",
              "      <td>-1.340163</td>\n",
              "      <td>1.773209</td>\n",
              "      <td>0.379780</td>\n",
              "      <td>-0.503198</td>\n",
              "      <td>1.800499</td>\n",
              "      <td>0.791461</td>\n",
              "      <td>0.247676</td>\n",
              "      <td>-1.514654</td>\n",
              "      <td>...</td>\n",
              "      <td>0.247998</td>\n",
              "      <td>0.771679</td>\n",
              "      <td>0.909412</td>\n",
              "      <td>-0.689281</td>\n",
              "      <td>-0.327642</td>\n",
              "      <td>-0.139097</td>\n",
              "      <td>-0.055353</td>\n",
              "      <td>-0.059752</td>\n",
              "      <td>378.66</td>\n",
              "      <td>0</td>\n",
              "    </tr>\n",
              "    <tr>\n",
              "      <th>3</th>\n",
              "      <td>1.0</td>\n",
              "      <td>-0.966272</td>\n",
              "      <td>-0.185226</td>\n",
              "      <td>1.792993</td>\n",
              "      <td>-0.863291</td>\n",
              "      <td>-0.010309</td>\n",
              "      <td>1.247203</td>\n",
              "      <td>0.237609</td>\n",
              "      <td>0.377436</td>\n",
              "      <td>-1.387024</td>\n",
              "      <td>...</td>\n",
              "      <td>-0.108300</td>\n",
              "      <td>0.005274</td>\n",
              "      <td>-0.190321</td>\n",
              "      <td>-1.175575</td>\n",
              "      <td>0.647376</td>\n",
              "      <td>-0.221929</td>\n",
              "      <td>0.062723</td>\n",
              "      <td>0.061458</td>\n",
              "      <td>123.50</td>\n",
              "      <td>0</td>\n",
              "    </tr>\n",
              "    <tr>\n",
              "      <th>4</th>\n",
              "      <td>2.0</td>\n",
              "      <td>-1.158233</td>\n",
              "      <td>0.877737</td>\n",
              "      <td>1.548718</td>\n",
              "      <td>0.403034</td>\n",
              "      <td>-0.407193</td>\n",
              "      <td>0.095921</td>\n",
              "      <td>0.592941</td>\n",
              "      <td>-0.270533</td>\n",
              "      <td>0.817739</td>\n",
              "      <td>...</td>\n",
              "      <td>-0.009431</td>\n",
              "      <td>0.798278</td>\n",
              "      <td>-0.137458</td>\n",
              "      <td>0.141267</td>\n",
              "      <td>-0.206010</td>\n",
              "      <td>0.502292</td>\n",
              "      <td>0.219422</td>\n",
              "      <td>0.215153</td>\n",
              "      <td>69.99</td>\n",
              "      <td>0</td>\n",
              "    </tr>\n",
              "  </tbody>\n",
              "</table>\n",
              "<p>5 rows × 31 columns</p>\n",
              "</div>\n",
              "    <div class=\"colab-df-buttons\">\n",
              "\n",
              "  <div class=\"colab-df-container\">\n",
              "    <button class=\"colab-df-convert\" onclick=\"convertToInteractive('df-e30dc33d-00b3-4af7-aba1-743e3faaa550')\"\n",
              "            title=\"Convert this dataframe to an interactive table.\"\n",
              "            style=\"display:none;\">\n",
              "\n",
              "  <svg xmlns=\"http://www.w3.org/2000/svg\" height=\"24px\" viewBox=\"0 -960 960 960\">\n",
              "    <path d=\"M120-120v-720h720v720H120Zm60-500h600v-160H180v160Zm220 220h160v-160H400v160Zm0 220h160v-160H400v160ZM180-400h160v-160H180v160Zm440 0h160v-160H620v160ZM180-180h160v-160H180v160Zm440 0h160v-160H620v160Z\"/>\n",
              "  </svg>\n",
              "    </button>\n",
              "\n",
              "  <style>\n",
              "    .colab-df-container {\n",
              "      display:flex;\n",
              "      gap: 12px;\n",
              "    }\n",
              "\n",
              "    .colab-df-convert {\n",
              "      background-color: #E8F0FE;\n",
              "      border: none;\n",
              "      border-radius: 50%;\n",
              "      cursor: pointer;\n",
              "      display: none;\n",
              "      fill: #1967D2;\n",
              "      height: 32px;\n",
              "      padding: 0 0 0 0;\n",
              "      width: 32px;\n",
              "    }\n",
              "\n",
              "    .colab-df-convert:hover {\n",
              "      background-color: #E2EBFA;\n",
              "      box-shadow: 0px 1px 2px rgba(60, 64, 67, 0.3), 0px 1px 3px 1px rgba(60, 64, 67, 0.15);\n",
              "      fill: #174EA6;\n",
              "    }\n",
              "\n",
              "    .colab-df-buttons div {\n",
              "      margin-bottom: 4px;\n",
              "    }\n",
              "\n",
              "    [theme=dark] .colab-df-convert {\n",
              "      background-color: #3B4455;\n",
              "      fill: #D2E3FC;\n",
              "    }\n",
              "\n",
              "    [theme=dark] .colab-df-convert:hover {\n",
              "      background-color: #434B5C;\n",
              "      box-shadow: 0px 1px 3px 1px rgba(0, 0, 0, 0.15);\n",
              "      filter: drop-shadow(0px 1px 2px rgba(0, 0, 0, 0.3));\n",
              "      fill: #FFFFFF;\n",
              "    }\n",
              "  </style>\n",
              "\n",
              "    <script>\n",
              "      const buttonEl =\n",
              "        document.querySelector('#df-e30dc33d-00b3-4af7-aba1-743e3faaa550 button.colab-df-convert');\n",
              "      buttonEl.style.display =\n",
              "        google.colab.kernel.accessAllowed ? 'block' : 'none';\n",
              "\n",
              "      async function convertToInteractive(key) {\n",
              "        const element = document.querySelector('#df-e30dc33d-00b3-4af7-aba1-743e3faaa550');\n",
              "        const dataTable =\n",
              "          await google.colab.kernel.invokeFunction('convertToInteractive',\n",
              "                                                    [key], {});\n",
              "        if (!dataTable) return;\n",
              "\n",
              "        const docLinkHtml = 'Like what you see? Visit the ' +\n",
              "          '<a target=\"_blank\" href=https://colab.research.google.com/notebooks/data_table.ipynb>data table notebook</a>'\n",
              "          + ' to learn more about interactive tables.';\n",
              "        element.innerHTML = '';\n",
              "        dataTable['output_type'] = 'display_data';\n",
              "        await google.colab.output.renderOutput(dataTable, element);\n",
              "        const docLink = document.createElement('div');\n",
              "        docLink.innerHTML = docLinkHtml;\n",
              "        element.appendChild(docLink);\n",
              "      }\n",
              "    </script>\n",
              "  </div>\n",
              "\n",
              "\n",
              "<div id=\"df-26ad93b2-3848-41d4-ac90-796f3a527ad5\">\n",
              "  <button class=\"colab-df-quickchart\" onclick=\"quickchart('df-26ad93b2-3848-41d4-ac90-796f3a527ad5')\"\n",
              "            title=\"Suggest charts\"\n",
              "            style=\"display:none;\">\n",
              "\n",
              "<svg xmlns=\"http://www.w3.org/2000/svg\" height=\"24px\"viewBox=\"0 0 24 24\"\n",
              "     width=\"24px\">\n",
              "    <g>\n",
              "        <path d=\"M19 3H5c-1.1 0-2 .9-2 2v14c0 1.1.9 2 2 2h14c1.1 0 2-.9 2-2V5c0-1.1-.9-2-2-2zM9 17H7v-7h2v7zm4 0h-2V7h2v10zm4 0h-2v-4h2v4z\"/>\n",
              "    </g>\n",
              "</svg>\n",
              "  </button>\n",
              "\n",
              "<style>\n",
              "  .colab-df-quickchart {\n",
              "      --bg-color: #E8F0FE;\n",
              "      --fill-color: #1967D2;\n",
              "      --hover-bg-color: #E2EBFA;\n",
              "      --hover-fill-color: #174EA6;\n",
              "      --disabled-fill-color: #AAA;\n",
              "      --disabled-bg-color: #DDD;\n",
              "  }\n",
              "\n",
              "  [theme=dark] .colab-df-quickchart {\n",
              "      --bg-color: #3B4455;\n",
              "      --fill-color: #D2E3FC;\n",
              "      --hover-bg-color: #434B5C;\n",
              "      --hover-fill-color: #FFFFFF;\n",
              "      --disabled-bg-color: #3B4455;\n",
              "      --disabled-fill-color: #666;\n",
              "  }\n",
              "\n",
              "  .colab-df-quickchart {\n",
              "    background-color: var(--bg-color);\n",
              "    border: none;\n",
              "    border-radius: 50%;\n",
              "    cursor: pointer;\n",
              "    display: none;\n",
              "    fill: var(--fill-color);\n",
              "    height: 32px;\n",
              "    padding: 0;\n",
              "    width: 32px;\n",
              "  }\n",
              "\n",
              "  .colab-df-quickchart:hover {\n",
              "    background-color: var(--hover-bg-color);\n",
              "    box-shadow: 0 1px 2px rgba(60, 64, 67, 0.3), 0 1px 3px 1px rgba(60, 64, 67, 0.15);\n",
              "    fill: var(--button-hover-fill-color);\n",
              "  }\n",
              "\n",
              "  .colab-df-quickchart-complete:disabled,\n",
              "  .colab-df-quickchart-complete:disabled:hover {\n",
              "    background-color: var(--disabled-bg-color);\n",
              "    fill: var(--disabled-fill-color);\n",
              "    box-shadow: none;\n",
              "  }\n",
              "\n",
              "  .colab-df-spinner {\n",
              "    border: 2px solid var(--fill-color);\n",
              "    border-color: transparent;\n",
              "    border-bottom-color: var(--fill-color);\n",
              "    animation:\n",
              "      spin 1s steps(1) infinite;\n",
              "  }\n",
              "\n",
              "  @keyframes spin {\n",
              "    0% {\n",
              "      border-color: transparent;\n",
              "      border-bottom-color: var(--fill-color);\n",
              "      border-left-color: var(--fill-color);\n",
              "    }\n",
              "    20% {\n",
              "      border-color: transparent;\n",
              "      border-left-color: var(--fill-color);\n",
              "      border-top-color: var(--fill-color);\n",
              "    }\n",
              "    30% {\n",
              "      border-color: transparent;\n",
              "      border-left-color: var(--fill-color);\n",
              "      border-top-color: var(--fill-color);\n",
              "      border-right-color: var(--fill-color);\n",
              "    }\n",
              "    40% {\n",
              "      border-color: transparent;\n",
              "      border-right-color: var(--fill-color);\n",
              "      border-top-color: var(--fill-color);\n",
              "    }\n",
              "    60% {\n",
              "      border-color: transparent;\n",
              "      border-right-color: var(--fill-color);\n",
              "    }\n",
              "    80% {\n",
              "      border-color: transparent;\n",
              "      border-right-color: var(--fill-color);\n",
              "      border-bottom-color: var(--fill-color);\n",
              "    }\n",
              "    90% {\n",
              "      border-color: transparent;\n",
              "      border-bottom-color: var(--fill-color);\n",
              "    }\n",
              "  }\n",
              "</style>\n",
              "\n",
              "  <script>\n",
              "    async function quickchart(key) {\n",
              "      const quickchartButtonEl =\n",
              "        document.querySelector('#' + key + ' button');\n",
              "      quickchartButtonEl.disabled = true;  // To prevent multiple clicks.\n",
              "      quickchartButtonEl.classList.add('colab-df-spinner');\n",
              "      try {\n",
              "        const charts = await google.colab.kernel.invokeFunction(\n",
              "            'suggestCharts', [key], {});\n",
              "      } catch (error) {\n",
              "        console.error('Error during call to suggestCharts:', error);\n",
              "      }\n",
              "      quickchartButtonEl.classList.remove('colab-df-spinner');\n",
              "      quickchartButtonEl.classList.add('colab-df-quickchart-complete');\n",
              "    }\n",
              "    (() => {\n",
              "      let quickchartButtonEl =\n",
              "        document.querySelector('#df-26ad93b2-3848-41d4-ac90-796f3a527ad5 button');\n",
              "      quickchartButtonEl.style.display =\n",
              "        google.colab.kernel.accessAllowed ? 'block' : 'none';\n",
              "    })();\n",
              "  </script>\n",
              "</div>\n",
              "\n",
              "    </div>\n",
              "  </div>\n"
            ],
            "application/vnd.google.colaboratory.intrinsic+json": {
              "type": "dataframe",
              "variable_name": "fraud_data"
            }
          },
          "metadata": {},
          "execution_count": 7
        }
      ]
    },
    {
      "cell_type": "code",
      "source": [
        "fraud_data.info()"
      ],
      "metadata": {
        "colab": {
          "base_uri": "https://localhost:8080/"
        },
        "id": "Rij8YvGQLnhW",
        "outputId": "c11f7f8c-b174-4e22-f0b4-721c70f5a0d0"
      },
      "execution_count": null,
      "outputs": [
        {
          "output_type": "stream",
          "name": "stdout",
          "text": [
            "<class 'pandas.core.frame.DataFrame'>\n",
            "RangeIndex: 284807 entries, 0 to 284806\n",
            "Data columns (total 31 columns):\n",
            " #   Column  Non-Null Count   Dtype  \n",
            "---  ------  --------------   -----  \n",
            " 0   Time    284807 non-null  float64\n",
            " 1   V1      284807 non-null  float64\n",
            " 2   V2      284807 non-null  float64\n",
            " 3   V3      284807 non-null  float64\n",
            " 4   V4      284807 non-null  float64\n",
            " 5   V5      284807 non-null  float64\n",
            " 6   V6      284807 non-null  float64\n",
            " 7   V7      284807 non-null  float64\n",
            " 8   V8      284807 non-null  float64\n",
            " 9   V9      284807 non-null  float64\n",
            " 10  V10     284807 non-null  float64\n",
            " 11  V11     284807 non-null  float64\n",
            " 12  V12     284807 non-null  float64\n",
            " 13  V13     284807 non-null  float64\n",
            " 14  V14     284807 non-null  float64\n",
            " 15  V15     284807 non-null  float64\n",
            " 16  V16     284807 non-null  float64\n",
            " 17  V17     284807 non-null  float64\n",
            " 18  V18     284807 non-null  float64\n",
            " 19  V19     284807 non-null  float64\n",
            " 20  V20     284807 non-null  float64\n",
            " 21  V21     284807 non-null  float64\n",
            " 22  V22     284807 non-null  float64\n",
            " 23  V23     284807 non-null  float64\n",
            " 24  V24     284807 non-null  float64\n",
            " 25  V25     284807 non-null  float64\n",
            " 26  V26     284807 non-null  float64\n",
            " 27  V27     284807 non-null  float64\n",
            " 28  V28     284807 non-null  float64\n",
            " 29  Amount  284807 non-null  float64\n",
            " 30  Class   284807 non-null  int64  \n",
            "dtypes: float64(30), int64(1)\n",
            "memory usage: 67.4 MB\n"
          ]
        }
      ]
    },
    {
      "cell_type": "code",
      "source": [
        "ax = fraud_data['Class'].value_counts().plot(kind='barh', rot=0, fontsize='12')"
      ],
      "metadata": {
        "colab": {
          "base_uri": "https://localhost:8080/",
          "height": 434
        },
        "id": "vT-PW1h-LuaB",
        "outputId": "d8d060f8-8174-473a-dd47-43ea118f551b"
      },
      "execution_count": null,
      "outputs": [
        {
          "output_type": "display_data",
          "data": {
            "text/plain": [
              "<Figure size 640x480 with 1 Axes>"
            ],
            "image/png": "[encoded data removed]"
          },
          "metadata": {}
        }
      ]
    },
    {
      "cell_type": "markdown",
      "source": [
        "Vamos a separar los datos según su clase en dos `DataFrame` para después agarrar una fracción de ellos:"
      ],
      "metadata": {
        "id": "jIRuipGSL8Fo"
      }
    },
    {
      "cell_type": "code",
      "source": [
        "# Split into separate dataframes\n",
        "fraud = fraud_data[fraud_data['Class'] == 1]\n",
        "not_fraud = fraud_data[fraud_data['Class'] == 0]\n",
        "\n",
        "# Take a random sample of non-fraud data\n",
        "# The .005 frac will give us around an 80/20 split of not-fraud/fraud samples\n",
        "# You can experiment with this value\n",
        "not_fraud_sample = not_fraud.sample(random_state=2, frac=.005)"
      ],
      "metadata": {
        "id": "N3BQiH1oL8tk"
      },
      "execution_count": null,
      "outputs": []
    },
    {
      "cell_type": "markdown",
      "source": [
        "Los pegamos en único `DataFrame` y graficamos el conteo para cada clase:"
      ],
      "metadata": {
        "id": "0QzusGZ6Mlnh"
      }
    },
    {
      "cell_type": "code",
      "source": [
        "# Put the data back together and shuffle\n",
        "fraud_data = pd.concat([not_fraud_sample,fraud])"
      ],
      "metadata": {
        "id": "rDCxzU-IMMi-"
      },
      "execution_count": null,
      "outputs": []
    },
    {
      "cell_type": "code",
      "source": [
        "ax = fraud_data['Class'].value_counts().plot(kind='barh', rot=0, fontsize='12')"
      ],
      "metadata": {
        "colab": {
          "base_uri": "https://localhost:8080/",
          "height": 434
        },
        "id": "hO3LZz0NMPza",
        "outputId": "fca76c62-3320-4589-a5a8-1f53870b66c7"
      },
      "execution_count": null,
      "outputs": [
        {
          "output_type": "display_data",
          "data": {
            "text/plain": [
              "<Figure size 640x480 with 1 Axes>"
            ],
            "image/png": "[encoded data removed]"
          },
          "metadata": {}
        }
      ]
    },
    {
      "cell_type": "markdown",
      "source": [
        "Creamos nuestras particiones de entrenamiento y prueba con los nuevos datos:"
      ],
      "metadata": {
        "id": "UK0TxUzFNRXJ"
      }
    },
    {
      "cell_type": "code",
      "source": [
        "X_train, X_test, y_train, y_test = train_test_split(fraud_data.iloc[:,fraud_data.columns != 'Class'], fraud_data['Class'], test_size=0.20, random_state=5)"
      ],
      "metadata": {
        "id": "gbvmq885NVcW"
      },
      "execution_count": null,
      "outputs": []
    },
    {
      "cell_type": "markdown",
      "source": [
        "Estandarizamos los datos:"
      ],
      "metadata": {
        "id": "CqYfeKWyOE_I"
      }
    },
    {
      "cell_type": "code",
      "source": [
        "scaler = preprocessing.StandardScaler().fit(X_train)\n",
        "X_train_scaled = scaler.transform(X_train)"
      ],
      "metadata": {
        "id": "4LKZoC4ZOHRE"
      },
      "execution_count": null,
      "outputs": []
    },
    {
      "cell_type": "markdown",
      "source": [
        "Entrenamos nuestro modelo. Ojo: vamos a entrenarlo como regresión 🙂."
      ],
      "metadata": {
        "id": "bA8jIZqpObz3"
      }
    },
    {
      "cell_type": "code",
      "source": [
        "model = xgb.XGBRegressor(\n",
        "    objective='reg:linear'\n",
        ")"
      ],
      "metadata": {
        "id": "aYdipwmbOWOF"
      },
      "execution_count": null,
      "outputs": []
    },
    {
      "cell_type": "code",
      "source": [
        "model.fit(X_train_scaled, y_train)"
      ],
      "metadata": {
        "colab": {
          "base_uri": "https://localhost:8080/",
          "height": 302
        },
        "id": "0_-hPxhoOX7k",
        "outputId": "d8d8282c-f402-428a-802f-994d4667a7f7"
      },
      "execution_count": null,
      "outputs": [
        {
          "output_type": "stream",
          "name": "stderr",
          "text": [
            "/usr/local/lib/python3.10/dist-packages/xgboost/core.py:160: UserWarning: [01:05:21] WARNING: /workspace/src/objective/regression_obj.cu:209: reg:linear is now deprecated in favor of reg:squarederror.\n",
            "  warnings.warn(smsg, UserWarning)\n"
          ]
        },
        {
          "output_type": "execute_result",
          "data": {
            "text/plain": [
              "XGBRegressor(base_score=None, booster=None, callbacks=None,\n",
              "             colsample_bylevel=None, colsample_bynode=None,\n",
              "             colsample_bytree=None, device=None, early_stopping_rounds=None,\n",
              "             enable_categorical=False, eval_metric=None, feature_types=None,\n",
              "             gamma=None, grow_policy=None, importance_type=None,\n",
              "             interaction_constraints=None, learning_rate=None, max_bin=None,\n",
              "             max_cat_threshold=None, max_cat_to_onehot=None,\n",
              "             max_delta_step=None, max_depth=None, max_leaves=None,\n",
              "             min_child_weight=None, missing=nan, monotone_constraints=None,\n",
              "             multi_strategy=None, n_estimators=None, n_jobs=None,\n",
              "             num_parallel_tree=None, objective='reg:linear', ...)"
            ],
            "text/html": [
              "<style>#sk-container-id-1 {color: black;background-color: white;}#sk-container-id-1 pre{padding: 0;}#sk-container-id-1 div.sk-toggleable {background-color: white;}#sk-container-id-1 label.sk-toggleable__label {cursor: pointer;display: block;width: 100%;margin-bottom: 0;padding: 0.3em;box-sizing: border-box;text-align: center;}#sk-container-id-1 label.sk-toggleable__label-arrow:before {content: \"▸\";float: left;margin-right: 0.25em;color: #696969;}#sk-container-id-1 label.sk-toggleable__label-arrow:hover:before {color: black;}#sk-container-id-1 div.sk-estimator:hover label.sk-toggleable__label-arrow:before {color: black;}#sk-container-id-1 div.sk-toggleable__content {max-height: 0;max-width: 0;overflow: hidden;text-align: left;background-color: #f0f8ff;}#sk-container-id-1 div.sk-toggleable__content pre {margin: 0.2em;color: black;border-radius: 0.25em;background-color: #f0f8ff;}#sk-container-id-1 input.sk-toggleable__control:checked~div.sk-toggleable__content {max-height: 200px;max-width: 100%;overflow: auto;}#sk-container-id-1 input.sk-toggleable__control:checked~label.sk-toggleable__label-arrow:before {content: \"▾\";}#sk-container-id-1 div.sk-estimator input.sk-toggleable__control:checked~label.sk-toggleable__label {background-color: #d4ebff;}#sk-container-id-1 div.sk-label input.sk-toggleable__control:checked~label.sk-toggleable__label {background-color: #d4ebff;}#sk-container-id-1 input.sk-hidden--visually {border: 0;clip: rect(1px 1px 1px 1px);clip: rect(1px, 1px, 1px, 1px);height: 1px;margin: -1px;overflow: hidden;padding: 0;position: absolute;width: 1px;}#sk-container-id-1 div.sk-estimator {font-family: monospace;background-color: #f0f8ff;border: 1px dotted black;border-radius: 0.25em;box-sizing: border-box;margin-bottom: 0.5em;}#sk-container-id-1 div.sk-estimator:hover {background-color: #d4ebff;}#sk-container-id-1 div.sk-parallel-item::after {content: \"\";width: 100%;border-bottom: 1px solid gray;flex-grow: 1;}#sk-container-id-1 div.sk-label:hover label.sk-toggleable__label {background-color: #d4ebff;}#sk-container-id-1 div.sk-serial::before {content: \"\";position: absolute;border-left: 1px solid gray;box-sizing: border-box;top: 0;bottom: 0;left: 50%;z-index: 0;}#sk-container-id-1 div.sk-serial {display: flex;flex-direction: column;align-items: center;background-color: white;padding-right: 0.2em;padding-left: 0.2em;position: relative;}#sk-container-id-1 div.sk-item {position: relative;z-index: 1;}#sk-container-id-1 div.sk-parallel {display: flex;align-items: stretch;justify-content: center;background-color: white;position: relative;}#sk-container-id-1 div.sk-item::before, #sk-container-id-1 div.sk-parallel-item::before {content: \"\";position: absolute;border-left: 1px solid gray;box-sizing: border-box;top: 0;bottom: 0;left: 50%;z-index: -1;}#sk-container-id-1 div.sk-parallel-item {display: flex;flex-direction: column;z-index: 1;position: relative;background-color: white;}#sk-container-id-1 div.sk-parallel-item:first-child::after {align-self: flex-end;width: 50%;}#sk-container-id-1 div.sk-parallel-item:last-child::after {align-self: flex-start;width: 50%;}#sk-container-id-1 div.sk-parallel-item:only-child::after {width: 0;}#sk-container-id-1 div.sk-dashed-wrapped {border: 1px dashed gray;margin: 0 0.4em 0.5em 0.4em;box-sizing: border-box;padding-bottom: 0.4em;background-color: white;}#sk-container-id-1 div.sk-label label {font-family: monospace;font-weight: bold;display: inline-block;line-height: 1.2em;}#sk-container-id-1 div.sk-label-container {text-align: center;}#sk-container-id-1 div.sk-container {/* jupyter's `normalize.less` sets `[hidden] { display: none; }` but bootstrap.min.css set `[hidden] { display: none !important; }` so we also need the `!important` here to be able to override the default hidden behavior on the sphinx rendered scikit-learn.org. See: https://github.com/scikit-learn/scikit-learn/issues/21755 */display: inline-block !important;position: relative;}#sk-container-id-1 div.sk-text-repr-fallback {display: none;}</style><div id=\"sk-container-id-1\" class=\"sk-top-container\"><div class=\"sk-text-repr-fallback\"><pre>XGBRegressor(base_score=None, booster=None, callbacks=None,\n",
              "             colsample_bylevel=None, colsample_bynode=None,\n",
              "             colsample_bytree=None, device=None, early_stopping_rounds=None,\n",
              "             enable_categorical=False, eval_metric=None, feature_types=None,\n",
              "             gamma=None, grow_policy=None, importance_type=None,\n",
              "             interaction_constraints=None, learning_rate=None, max_bin=None,\n",
              "             max_cat_threshold=None, max_cat_to_onehot=None,\n",
              "             max_delta_step=None, max_depth=None, max_leaves=None,\n",
              "             min_child_weight=None, missing=nan, monotone_constraints=None,\n",
              "             multi_strategy=None, n_estimators=None, n_jobs=None,\n",
              "             num_parallel_tree=None, objective=&#x27;reg:linear&#x27;, ...)</pre><b>In a Jupyter environment, please rerun this cell to show the HTML representation or trust the notebook. <br />On GitHub, the HTML representation is unable to render, please try loading this page with nbviewer.org.</b></div><div class=\"sk-container\" hidden><div class=\"sk-item\"><div class=\"sk-estimator sk-toggleable\"><input class=\"sk-toggleable__control sk-hidden--visually\" id=\"sk-estimator-id-1\" type=\"checkbox\" checked><label for=\"sk-estimator-id-1\" class=\"sk-toggleable__label sk-toggleable__label-arrow\">XGBRegressor</label><div class=\"sk-toggleable__content\"><pre>XGBRegressor(base_score=None, booster=None, callbacks=None,\n",
              "             colsample_bylevel=None, colsample_bynode=None,\n",
              "             colsample_bytree=None, device=None, early_stopping_rounds=None,\n",
              "             enable_categorical=False, eval_metric=None, feature_types=None,\n",
              "             gamma=None, grow_policy=None, importance_type=None,\n",
              "             interaction_constraints=None, learning_rate=None, max_bin=None,\n",
              "             max_cat_threshold=None, max_cat_to_onehot=None,\n",
              "             max_delta_step=None, max_depth=None, max_leaves=None,\n",
              "             min_child_weight=None, missing=nan, monotone_constraints=None,\n",
              "             multi_strategy=None, n_estimators=None, n_jobs=None,\n",
              "             num_parallel_tree=None, objective=&#x27;reg:linear&#x27;, ...)</pre></div></div></div></div></div>"
            ]
          },
          "metadata": {},
          "execution_count": 16
        }
      ]
    },
    {
      "cell_type": "markdown",
      "source": [
        "Realizamos algunas predicciones:"
      ],
      "metadata": {
        "id": "Yu6TBfr_OfIm"
      }
    },
    {
      "cell_type": "code",
      "source": [
        "# Get some test predictions\n",
        "y_pred = model.predict(scaler.transform(X_test))"
      ],
      "metadata": {
        "id": "4Lin_Ff6Og9X"
      },
      "execution_count": null,
      "outputs": []
    },
    {
      "cell_type": "code",
      "source": [
        "y_pred"
      ],
      "metadata": {
        "colab": {
          "base_uri": "https://localhost:8080/"
        },
        "id": "xYUQT131OntD",
        "outputId": "f2ef0ba3-7c86-40bd-9390-581e99919a4f"
      },
      "execution_count": null,
      "outputs": [
        {
          "output_type": "execute_result",
          "data": {
            "text/plain": [
              "array([ 1.13676405e+00,  3.60873304e-02,  1.77067518e-02, -1.45099722e-02,\n",
              "       -3.71658988e-02,  1.39115542e-01, -2.33484572e-03,  8.18452597e-01,\n",
              "       -3.05923968e-05,  4.73697275e-01, -6.77092653e-03,  9.98712003e-01,\n",
              "       -5.05022984e-03, -5.91989432e-04, -5.75145101e-03,  7.27718114e-04,\n",
              "        4.88276593e-03,  1.13316275e-01, -1.72620770e-02, -1.42502843e-03,\n",
              "        1.37099167e-02, -3.12716048e-03,  9.18374804e-04,  6.97357804e-02,\n",
              "        5.60794119e-03, -1.63525417e-02,  2.03805929e-03,  7.98702007e-04,\n",
              "       -3.42266238e-03,  1.51579916e-01,  6.89807683e-02, -1.36520423e-03,\n",
              "        1.00258029e+00,  6.22374611e-03,  1.00004709e+00, -2.75140554e-02,\n",
              "        9.94237304e-01,  1.04200244e+00,  3.29312831e-02, -8.89213011e-03,\n",
              "        3.70186232e-02,  8.83744191e-03,  1.00057518e+00,  3.42993364e-02,\n",
              "        4.20967102e-01,  8.13624915e-03, -5.16289426e-03, -1.83677562e-02,\n",
              "        1.04381368e-02, -4.94320784e-03, -1.59668494e-02, -1.25874756e-02,\n",
              "        9.97056365e-01, -1.83243249e-02,  9.58491921e-01,  1.26567885e-01,\n",
              "        1.62092634e-02,  4.45247628e-03,  1.00798160e-02,  1.83705296e-02,\n",
              "        6.00129738e-03, -6.69584051e-03,  3.50888781e-02,  9.96243536e-01,\n",
              "       -6.22258289e-03, -8.42147972e-03,  4.04735692e-02, -1.63542274e-02,\n",
              "        2.36262511e-02,  3.76107171e-02,  7.26059973e-02, -8.59091640e-04,\n",
              "        2.82941163e-01,  4.75175604e-02, -1.07349548e-02, -6.63972227e-03,\n",
              "        1.13823347e-01, -1.51411602e-02, -3.69152962e-03,  1.34289086e-01,\n",
              "        1.00325167e+00,  9.99828517e-01, -1.14448266e-02,  1.00246704e+00,\n",
              "        1.25850467e-02,  6.02477193e-01,  9.76660490e-01,  3.18397470e-02,\n",
              "       -9.23377555e-03,  7.72959378e-04,  1.00362492e+00, -1.06686749e-03,\n",
              "        2.72180364e-02,  8.58991668e-02, -8.65263585e-03, -2.42970269e-02,\n",
              "       -1.65089332e-02,  1.39040058e-03,  2.90501326e-01,  8.74883495e-03,\n",
              "        1.00258029e+00,  9.27154720e-02,  9.21338439e-01, -1.76357962e-02,\n",
              "        1.00594580e+00, -2.74849460e-02,  3.19546908e-02,  3.18318814e-01,\n",
              "       -2.27642283e-02, -1.76239070e-02,  9.29028869e-01,  1.02838862e+00,\n",
              "       -4.89897504e-02,  2.19808836e-02,  1.54483393e-01,  5.13225654e-03,\n",
              "       -2.45042116e-04, -3.39832786e-03,  1.45881074e-02,  1.57713130e-01,\n",
              "        9.99659777e-01,  6.44199876e-03,  1.42496020e-01,  8.91315471e-03,\n",
              "        1.00121129e+00,  7.47764111e-02,  1.30814433e-01,  8.96082297e-02,\n",
              "        3.35965166e-03,  1.00934100e+00,  4.99430075e-02,  1.77747324e-01,\n",
              "        1.41695226e-02,  1.01496255e+00, -5.71988709e-03,  1.55262455e-01,\n",
              "        3.10114492e-02,  2.25763489e-02,  9.98341560e-01,  1.01503956e+00,\n",
              "       -8.16006027e-03,  5.03585115e-02, -9.25458386e-04, -1.67260934e-02,\n",
              "        2.45491236e-01,  2.45605320e-01,  6.65794164e-02,  1.00045049e+00,\n",
              "       -1.29344082e-02, -2.21081823e-03,  1.43518925e-01, -2.78538279e-03,\n",
              "        1.02661085e+00, -1.26065269e-01,  1.28126740e-02, -4.75412346e-02,\n",
              "        3.23718160e-01,  9.87897906e-03,  4.35109949e-03,  8.08236539e-01,\n",
              "        8.51538107e-02,  1.00237799e+00, -3.92702920e-03, -2.69044824e-02,\n",
              "        2.05923002e-02, -3.82626033e-03, -1.77317467e-02,  2.94966269e-02,\n",
              "        1.00077236e+00, -1.08473347e-02,  1.04534496e-02, -2.08441783e-02,\n",
              "       -1.54455332e-02, -9.32581956e-04, -2.84795719e-03,  1.24378584e-01,\n",
              "       -2.95562623e-03,  2.75210757e-02, -1.90398481e-03,  7.78206566e-04,\n",
              "        6.28636479e-02, -2.57382486e-02, -7.91871920e-03,  4.51773494e-01,\n",
              "       -4.79986006e-03, -1.09670004e-02,  2.86637410e-03,  3.38572025e-01,\n",
              "        1.00286651e+00,  1.00995040e+00,  1.51600828e-02,  3.17919590e-02,\n",
              "       -6.01004250e-02,  1.50700942e-01, -1.15616908e-02,  1.00660646e+00,\n",
              "        1.12531045e-02,  3.18555944e-02, -1.01874061e-02,  1.00387859e+00,\n",
              "       -1.26093323e-03, -2.80995824e-04,  4.57178615e-02, -2.34969240e-02,\n",
              "        1.72263458e-02,  2.46400712e-04,  1.00044179e+00,  1.00007224e+00,\n",
              "        1.00014508e+00, -2.67117396e-02,  3.94155318e-03,  1.05534685e+00,\n",
              "        1.34541377e-04,  1.56749412e-01,  1.45158067e-01,  9.98607635e-01,\n",
              "       -9.74234007e-03,  3.96798663e-02, -8.52596667e-03,  1.25029728e-01,\n",
              "        4.75640632e-02,  1.77948065e-02, -1.20594201e-03, -2.57985890e-02,\n",
              "        9.96326864e-01, -7.75952544e-03,  9.99554992e-01, -7.87800644e-03,\n",
              "        9.88715351e-01,  1.42229512e-01,  9.98209596e-01,  3.03299800e-02,\n",
              "        1.01682258e+00,  1.31159455e-01, -8.50656477e-04,  6.77489042e-02,\n",
              "        9.91861343e-01,  1.74126923e-02,  2.48251129e-02,  4.61960398e-02,\n",
              "        9.52917989e-03, -3.49725178e-03,  2.00945705e-01,  2.07520742e-02,\n",
              "        1.00064206e+00, -5.06784134e-02,  1.09294750e-01, -1.47984792e-02,\n",
              "        1.65675897e-02,  6.91093355e-02,  9.99428093e-01,  4.38052323e-03,\n",
              "       -1.38870059e-02,  7.97737669e-03,  1.00008261e+00, -1.11001544e-02,\n",
              "        9.99042451e-01, -9.43750236e-03,  1.91515058e-01,  8.27340007e-01,\n",
              "       -9.88906156e-03, -1.76523160e-02, -1.53500773e-03,  9.99688625e-01,\n",
              "        4.72595589e-03,  9.98997390e-01,  9.93328810e-01,  9.95076239e-01,\n",
              "        4.61470962e-01,  5.34725547e-01, -1.49159183e-04,  1.84133351e-02,\n",
              "       -3.90152149e-02,  2.26317905e-02,  9.00975056e-03,  2.38581188e-02,\n",
              "       -7.09669082e-04,  1.46497665e-02, -6.81055244e-03,  9.92953360e-01,\n",
              "        2.54582949e-02, -3.81581206e-03, -5.18665509e-03,  9.08592343e-02,\n",
              "        9.91507232e-01, -1.28600756e-02,  9.98931944e-01, -5.86535258e-04,\n",
              "        5.96038392e-03,  4.01665121e-01,  3.18704732e-02,  1.01284236e-02,\n",
              "       -8.60583037e-03,  1.00054753e+00,  2.22164541e-02, -6.49982542e-02,\n",
              "        2.14865655e-02,  1.00786281e+00,  1.00069916e+00, -2.06821375e-02,\n",
              "        1.16104372e-02,  1.00091112e+00,  1.01583636e+00, -2.20232783e-03,\n",
              "       -2.47719865e-02,  1.83797930e-03,  1.03497124e+00, -2.33694119e-03,\n",
              "        1.22109346e-01, -4.19860147e-03,  1.14848902e-02,  1.00104880e+00,\n",
              "       -7.54195265e-03,  9.99752760e-01,  5.90330316e-03, -1.47241214e-02,\n",
              "        2.51787379e-02, -4.34253830e-03,  1.00221813e+00,  1.00077236e+00,\n",
              "        1.59647420e-01,  5.41578412e-01,  1.03857601e-02,  1.01316142e+00,\n",
              "       -1.84908099e-02,  3.60360136e-04,  1.35027838e-03,  1.60864070e-02,\n",
              "        7.38160536e-02, -7.58717395e-03,  4.95488122e-02,  4.06598210e-01,\n",
              "       -1.82952769e-02,  2.22885907e-02,  1.10412706e-02,  5.80837950e-02,\n",
              "        1.83847093e-03,  1.51773705e-03,  4.76580113e-02, -9.46197193e-03,\n",
              "        1.57508359e-03,  2.68312097e-02, -7.01029040e-03, -8.26751534e-03,\n",
              "        9.80184436e-01, -6.46579638e-03,  1.00228548e+00,  1.80474818e-01,\n",
              "        9.74456429e-01,  9.90611672e-01, -1.84520427e-02,  8.78117383e-02,\n",
              "        9.97911990e-01,  9.68642831e-02,  5.04648127e-03,  1.16739221e-01,\n",
              "        2.53439665e-01, -1.76468659e-02,  1.00109589e+00,  2.98244064e-03,\n",
              "       -6.41037943e-03,  1.10309705e-01,  2.68958155e-02,  2.43248660e-02,\n",
              "        1.31974205e-01,  1.03538692e+00,  1.92553893e-01, -2.98300851e-03,\n",
              "        1.99264344e-02,  9.12877262e-01, -3.23165134e-02,  7.10318564e-03,\n",
              "       -7.03293737e-03, -1.36204688e-02,  7.40925595e-03,  3.61218080e-02,\n",
              "        2.42354557e-01, -7.73120951e-03,  9.90593791e-01, -1.15002371e-01,\n",
              "        1.00710011e+00,  1.00765347e+00,  1.19909216e-02], dtype=float32)"
            ]
          },
          "metadata": {},
          "execution_count": 18
        }
      ]
    },
    {
      "cell_type": "markdown",
      "source": [
        "Noten que las predicciones no son enteros (al formular el problema como regresión). Vamos a convertir los datos a enteros:"
      ],
      "metadata": {
        "id": "cZqE1iuaOrwu"
      }
    },
    {
      "cell_type": "code",
      "source": [
        "y_pred = y_pred.astype(int)"
      ],
      "metadata": {
        "id": "5CF8YJAaO138"
      },
      "execution_count": null,
      "outputs": []
    },
    {
      "cell_type": "markdown",
      "source": [
        "Calculamos ahora nuestra matriz de confusión con las predicciones ya como enteros:"
      ],
      "metadata": {
        "id": "8RJnsBWUO-IU"
      }
    },
    {
      "cell_type": "code",
      "source": [
        "cm = confusion_matrix(y_test, y_pred)\n",
        "print(cm)"
      ],
      "metadata": {
        "colab": {
          "base_uri": "https://localhost:8080/"
        },
        "id": "6R2hqP9wPCBn",
        "outputId": "fd245add-4201-41b5-b515-4f71b9011e33"
      },
      "execution_count": null,
      "outputs": [
        {
          "output_type": "stream",
          "name": "stdout",
          "text": [
            "[[290   0]\n",
            " [ 48  45]]\n"
          ]
        }
      ]
    },
    {
      "cell_type": "code",
      "source": [
        "# This is from the sklearn docs\n",
        "# https://scikit-learn.org/0.18/auto_examples/model_selection/plot_confusion_matrix.html\n",
        "def plot_confusion_matrix(cm, classes,\n",
        "                          normalize=False,\n",
        "                          title='Confusion matrix',\n",
        "                          cmap=plt.cm.Blues):\n",
        "    \"\"\"\n",
        "    This function prints and plots the confusion matrix.\n",
        "    Normalization can be applied by setting `normalize=True`.\n",
        "    \"\"\"\n",
        "    plt.imshow(cm, interpolation='nearest', cmap=cmap)\n",
        "    plt.title(title)\n",
        "    plt.colorbar()\n",
        "    tick_marks = np.arange(len(classes))\n",
        "    plt.xticks(tick_marks, classes, rotation=45)\n",
        "    plt.yticks(tick_marks, classes)\n",
        "\n",
        "    if normalize:\n",
        "        cm = np.round(cm.astype('float') / cm.sum(axis=1)[:, np.newaxis], 3)\n",
        "\n",
        "    thresh = cm.max() / 2.\n",
        "    for i, j in itertools.product(range(cm.shape[0]), range(cm.shape[1])):\n",
        "        plt.text(j, i, cm[i, j],\n",
        "                 horizontalalignment=\"center\",\n",
        "                 color=\"white\" if cm[i, j] > thresh else \"black\")\n",
        "\n",
        "    plt.tight_layout()\n",
        "    plt.ylabel('True label')\n",
        "    plt.xlabel('Predicted label')\n"
      ],
      "metadata": {
        "id": "zAlKISQlPV1X"
      },
      "execution_count": null,
      "outputs": []
    },
    {
      "cell_type": "code",
      "source": [
        "classes = ['not fraud', 'fraud']"
      ],
      "metadata": {
        "id": "jHKTaNzJxhps"
      },
      "execution_count": null,
      "outputs": []
    },
    {
      "cell_type": "code",
      "source": [
        "plot_confusion_matrix(cm, classes, normalize=True)"
      ],
      "metadata": {
        "id": "V_EQbytbPYZm",
        "outputId": "ba47faaf-b59a-49c0-e6b2-8ee140f43ad9",
        "colab": {
          "base_uri": "https://localhost:8080/",
          "height": 506
        }
      },
      "execution_count": null,
      "outputs": [
        {
          "output_type": "display_data",
          "data": {
            "text/plain": [
              "<Figure size 640x480 with 2 Axes>"
            ],
            "image/png": "[encoded data removed]"
          },
          "metadata": {}
        }
      ]
    },
    {
      "cell_type": "markdown",
      "source": [
        "Finalmete determinamos nuestras métricas básicas: `accuracy`, `precision`, `recall` y `f1 score`."
      ],
      "metadata": {
        "id": "EGYBi6cFp_VJ"
      }
    },
    {
      "cell_type": "code",
      "source": [
        "print(f'f1_test ---------> {f1_score(y_test, y_pred)}')\n",
        "print(f'accuracy_test:---> {accuracy_score(y_test, y_pred)}')\n",
        "print(f'recall_test: ----> {recall_score(y_test, y_pred)}')\n",
        "print(f'precision_test: -> {precision_score(y_test, y_pred)}')"
      ],
      "metadata": {
        "colab": {
          "base_uri": "https://localhost:8080/"
        },
        "id": "NVJHPdx5qRs7",
        "outputId": "d2d75703-1bde-40be-ad62-d172a61ad7c6"
      },
      "execution_count": null,
      "outputs": [
        {
          "output_type": "stream",
          "name": "stdout",
          "text": [
            "f1_test ---------> 0.6521739130434783\n",
            "accuracy_test:---> 0.8746736292428199\n",
            "recall_test: ----> 0.4838709677419355\n",
            "precision_test: -> 1.0\n"
          ]
        }
      ]
    },
    {
      "cell_type": "markdown",
      "source": [
        "**Actividad**: Entrenen tres modelos.\n",
        "\n",
        "- El primero es usando los datos tal como son. Reporten las métricas básicas y la matriz de confusión usando `X_test` y `y_test` que se crearon en la práctica.\n",
        "- El segundo es equilibrando los datos en una proporción 50/50. Para esto, usen todos los datos de la clase minoritaria y eligan una muestra de la clase mayoritaria del tamaño de la clase menos representada. Reporten las métricas básicas y la matriz de confusión usando `X_test` y `y_test` que se crearon en la práctica.\n",
        "- Usando el código de arriba, construyan un ensamble con la idea de Bagging.\n",
        "  - Entrenen 3 modelos base con el mismo algoritmo. Para cada uno de ellos, entrénenlo con una muestra distinta de la clase mayoritaria bajo la idea del equilibrio 50/50.\n",
        "  - Una vez entrenados los 3 modelos base, hagan predicciones mediante voto mayoritario usando `X_test` y `y_test` que se crearon en la práctica. Obtengan las métricas básicas y la matriz de confusión.\n",
        "\n",
        "¿Existe una mejoría según los modelos entrenados?"
      ],
      "metadata": {
        "id": "Jh-JHU4SqhOZ"
      }
    },
    {
      "cell_type": "markdown",
      "source": [
        "### Entrenamiento penalizado"
      ],
      "metadata": {
        "id": "cdhi7ulcuDaA"
      }
    },
    {
      "cell_type": "markdown",
      "source": [
        "Vamos a explorar la idea del entrenamiento penalizado mediante"
      ],
      "metadata": {
        "id": "joeoXdLkuHhr"
      }
    },
    {
      "cell_type": "code",
      "source": [
        "fraud_data_w = pd.read_csv('creditcard.csv')"
      ],
      "metadata": {
        "id": "PYSLku_tucjf"
      },
      "execution_count": null,
      "outputs": []
    },
    {
      "cell_type": "code",
      "source": [
        "X_train, X_test, y_train, y_test = train_test_split(fraud_data_w.iloc[:,fraud_data_w.columns != 'Class'], fraud_data_w['Class'], test_size=0.20, random_state=5)"
      ],
      "metadata": {
        "id": "STJ2avqovF_p"
      },
      "execution_count": null,
      "outputs": []
    },
    {
      "cell_type": "code",
      "source": [
        "scaler = preprocessing.StandardScaler().fit(X_train)\n",
        "X_train_scaled = scaler.transform(X_train)\n",
        "x_test_scaled = scaler.transform(X_test)"
      ],
      "metadata": {
        "id": "DPbdJGjUvF_q"
      },
      "execution_count": null,
      "outputs": []
    },
    {
      "cell_type": "code",
      "source": [
        "X_train.shape"
      ],
      "metadata": {
        "colab": {
          "base_uri": "https://localhost:8080/"
        },
        "id": "6ZyhCRaw0HMY",
        "outputId": "79c43fe2-bce9-4c67-97b0-d18b99b665ce"
      },
      "execution_count": null,
      "outputs": [
        {
          "output_type": "execute_result",
          "data": {
            "text/plain": [
              "(227845, 30)"
            ]
          },
          "metadata": {},
          "execution_count": 9
        }
      ]
    },
    {
      "cell_type": "markdown",
      "source": [
        "Vamos a calcular los pesos para darle más o menos importancia a cada clase. La idea es que vamos a darle un peso que represente el desbalance. Por ejemplo, si la clase menos representada consiste en el 0.1% de los datos, es razonable considerarque el modelo trate los ejemplos de dicha clase con un peso 1000 veces mayor.\n",
        "\n",
        "En práctica, es deseable que los pesos sean tales que sumen 1."
      ],
      "metadata": {
        "id": "FAog-b4Ew_HE"
      }
    },
    {
      "cell_type": "code",
      "source": [
        "num_minority = y_train.value_counts()[1]\n",
        "num_majority = y_train.value_counts()[0]"
      ],
      "metadata": {
        "id": "1imwALlcwdb2"
      },
      "execution_count": null,
      "outputs": []
    },
    {
      "cell_type": "code",
      "source": [
        "print(num_minority)\n",
        "print(num_majority)"
      ],
      "metadata": {
        "colab": {
          "base_uri": "https://localhost:8080/"
        },
        "id": "jaRcM_2pyt2x",
        "outputId": "8808b1d6-b06c-48f8-8431-666f9b11a139"
      },
      "execution_count": null,
      "outputs": [
        {
          "output_type": "stream",
          "name": "stdout",
          "text": [
            "388\n",
            "227457\n"
          ]
        }
      ]
    },
    {
      "cell_type": "code",
      "source": [
        "minority_class_weight = 1 / (num_minority / len(X_train)) / 2\n",
        "majority_class_weight = 1 / (num_majority / len(X_train)) / 2\n",
        "\n",
        "# Pass the weights to Keras in a dict\n",
        "# The key is the index of each class\n",
        "keras_class_weights = {0: majority_class_weight, 1: minority_class_weight}\n",
        "print(keras_class_weights)\n",
        "\n",
        "# Calculate output bias\n",
        "output_bias = math.log(num_minority / num_majority)\n",
        "print(output_bias)"
      ],
      "metadata": {
        "colab": {
          "base_uri": "https://localhost:8080/"
        },
        "id": "i_KAjUqSwt6K",
        "outputId": "e734a58a-7aa7-4b78-f393-d567f3710a67"
      },
      "execution_count": null,
      "outputs": [
        {
          "output_type": "stream",
          "name": "stdout",
          "text": [
            "{0: 0.5008529084618192, 1: 293.6146907216495}\n",
            "-6.37371114889603\n"
          ]
        }
      ]
    },
    {
      "cell_type": "markdown",
      "source": [
        "Cuando se maneja una red neuronal, ayuda mucho inicializar el bias a un valor que tome en cuenta el desbalance de los datos. Esto ayuda a que converga más rápido la red neuronal."
      ],
      "metadata": {
        "id": "ax7EaeuFzWT9"
      }
    },
    {
      "cell_type": "code",
      "source": [
        "fraud_model = keras.Sequential([\n",
        "    keras.layers.Dense(16, input_shape=(X_train.shape[1],), activation='relu'),\n",
        "    keras.layers.Dropout(0.25),\n",
        "    keras.layers.Dense(16, activation='relu'),\n",
        "    keras.layers.Dense(1, activation='sigmoid', bias_initializer=tf.keras.initializers.Constant(output_bias))\n",
        "])"
      ],
      "metadata": {
        "id": "HMmfzq8QzpN-"
      },
      "execution_count": null,
      "outputs": []
    },
    {
      "cell_type": "code",
      "source": [
        "metrics = [\n",
        "      tf.keras.metrics.BinaryAccuracy(name='accuracy'),\n",
        "      tf.keras.metrics.Precision(name='precision'),\n",
        "      tf.keras.metrics.Recall(name='recall'),\n",
        "      tf.keras.metrics.F1Score(name='f1_score'),\n",
        "]"
      ],
      "metadata": {
        "id": "I3fsLCl2zvDN"
      },
      "execution_count": null,
      "outputs": []
    },
    {
      "cell_type": "code",
      "source": [
        "fraud_model.compile(loss='binary_crossentropy', optimizer='adam', metrics=metrics)#, run_eagerly=True)"
      ],
      "metadata": {
        "id": "EJSsO5Efz1CC"
      },
      "execution_count": null,
      "outputs": []
    },
    {
      "cell_type": "code",
      "source": [
        "fraud_model.fit(X_train_scaled, y_train.astype(float), epochs=10, batch_size=50, class_weight=keras_class_weights)"
      ],
      "metadata": {
        "colab": {
          "base_uri": "https://localhost:8080/"
        },
        "id": "oocIXrXcz2cG",
        "outputId": "c6ab1dd2-5493-4e75-b121-289702a34b67"
      },
      "execution_count": null,
      "outputs": [
        {
          "output_type": "stream",
          "name": "stdout",
          "text": [
            "Epoch 1/10\n",
            "4557/4557 [==============================] - 12s 2ms/step - loss: 0.3065 - accuracy: 0.9781 - precision: 0.0628 - recall: 0.8505 - f1_score: 0.0034\n",
            "Epoch 2/10\n",
            "4557/4557 [==============================] - 11s 2ms/step - loss: 0.1756 - accuracy: 0.9695 - precision: 0.0484 - recall: 0.9046 - f1_score: 0.0034\n",
            "Epoch 3/10\n",
            "4557/4557 [==============================] - 11s 2ms/step - loss: 0.1650 - accuracy: 0.9728 - precision: 0.0542 - recall: 0.9098 - f1_score: 0.0034\n",
            "Epoch 4/10\n",
            "4557/4557 [==============================] - 11s 3ms/step - loss: 0.1475 - accuracy: 0.9710 - precision: 0.0515 - recall: 0.9201 - f1_score: 0.0034\n",
            "Epoch 5/10\n",
            "4557/4557 [==============================] - 12s 3ms/step - loss: 0.1644 - accuracy: 0.9734 - precision: 0.0550 - recall: 0.9021 - f1_score: 0.0034\n",
            "Epoch 6/10\n",
            "4557/4557 [==============================] - 11s 3ms/step - loss: 0.1466 - accuracy: 0.9747 - precision: 0.0585 - recall: 0.9175 - f1_score: 0.0034\n",
            "Epoch 7/10\n",
            "4557/4557 [==============================] - 10s 2ms/step - loss: 0.1524 - accuracy: 0.9757 - precision: 0.0611 - recall: 0.9253 - f1_score: 0.0034\n",
            "Epoch 8/10\n",
            "4557/4557 [==============================] - 11s 2ms/step - loss: 0.1566 - accuracy: 0.9760 - precision: 0.0614 - recall: 0.9149 - f1_score: 0.0034\n",
            "Epoch 9/10\n",
            "4557/4557 [==============================] - 11s 2ms/step - loss: 0.1650 - accuracy: 0.9706 - precision: 0.0510 - recall: 0.9227 - f1_score: 0.0034\n",
            "Epoch 10/10\n",
            "4557/4557 [==============================] - 11s 2ms/step - loss: 0.1655 - accuracy: 0.9682 - precision: 0.0470 - recall: 0.9149 - f1_score: 0.0034\n"
          ]
        },
        {
          "output_type": "execute_result",
          "data": {
            "text/plain": [
              "<keras.src.callbacks.History at 0x7d2fd419bc40>"
            ]
          },
          "metadata": {},
          "execution_count": 16
        }
      ]
    },
    {
      "cell_type": "markdown",
      "source": [
        "Ya que terminó de entrenarse nuestra red neuronal, vamos a calcular nuestras métricas de evaluación con el conjunto de prueba, realizar las predicciones y obtener la matriz de confusión."
      ],
      "metadata": {
        "id": "YAlmkg0DARy8"
      }
    },
    {
      "cell_type": "code",
      "source": [
        "fraud_model.evaluate(x_test_scaled,y_test.astype(float))"
      ],
      "metadata": {
        "id": "DruMHJqA7Fn7",
        "colab": {
          "base_uri": "https://localhost:8080/"
        },
        "outputId": "2e656094-98fc-4e94-ef5f-520063ccdfae"
      },
      "execution_count": null,
      "outputs": [
        {
          "output_type": "stream",
          "name": "stdout",
          "text": [
            "1781/1781 [==============================] - 3s 2ms/step - loss: 0.0742 - accuracy: 0.9853 - precision: 0.1017 - recall: 0.9038 - f1_score: 0.0036\n"
          ]
        },
        {
          "output_type": "execute_result",
          "data": {
            "text/plain": [
              "[0.07421901077032089,\n",
              " 0.9852533340454102,\n",
              " 0.10173159837722778,\n",
              " 0.9038461446762085,\n",
              " array([0.00364548], dtype=float32)]"
            ]
          },
          "metadata": {},
          "execution_count": 17
        }
      ]
    },
    {
      "cell_type": "code",
      "source": [
        "predictions = fraud_model.predict(x_test_scaled)\n"
      ],
      "metadata": {
        "colab": {
          "base_uri": "https://localhost:8080/"
        },
        "id": "oOxzhX_27Zd0",
        "outputId": "d7ad7194-4886-44d9-91e4-f042b7e30f96"
      },
      "execution_count": null,
      "outputs": [
        {
          "output_type": "stream",
          "name": "stdout",
          "text": [
            "1781/1781 [==============================] - 4s 2ms/step\n"
          ]
        }
      ]
    },
    {
      "cell_type": "code",
      "source": [
        "predictions = (predictions > 0.5).astype(np.float32)"
      ],
      "metadata": {
        "id": "5-166ACKxSb3"
      },
      "execution_count": null,
      "outputs": []
    },
    {
      "cell_type": "code",
      "source": [
        "cm = confusion_matrix(y_test, predictions.astype(int))\n",
        "plot_confusion_matrix(cm, classes, normalize=True)"
      ],
      "metadata": {
        "colab": {
          "base_uri": "https://localhost:8080/",
          "height": 506
        },
        "id": "GNQUoF7y7fRp",
        "outputId": "51533097-5c18-4e74-fe30-b851362a01c0"
      },
      "execution_count": null,
      "outputs": [
        {
          "output_type": "display_data",
          "data": {
            "text/plain": [
              "<Figure size 640x480 with 2 Axes>"
            ],
            "image/png": "[encoded data removed]"
          },
          "metadata": {}
        }
      ]
    },
    {
      "cell_type": "markdown",
      "source": [
        "**Pregunta**: ¿Qué opinan del modelo entrenado? Recuerden que es una red neuronal MUY sencilla."
      ],
      "metadata": {
        "id": "Z_ELB8ZyAeHV"
      }
    },
    {
      "cell_type": "markdown",
      "source": [
        "### Entrenamiento penalizado con Scikit-learn"
      ],
      "metadata": {
        "id": "2nbm2ilixrOt"
      }
    },
    {
      "cell_type": "markdown",
      "source": [
        "Ahora vamos a realizar la misma idea de penalizar o darle más peso a ciertas clases usando los métodos diponibles en Scikit-learn. Muchos modelos tienen un parámetro llamado `class_weight` donde podemos asignarle un diccionario donde cada llave corresponde a cada clase del conjunto de datos, y su valor correspondiente sería el peso que se le asignará a esos puntos. Por ejemplo, para la [SVC](https://scikit-learn.org/stable/modules/generated/sklearn.svm.SVC.html#sklearn.svm.SVC):\n",
        "\n",
        "\n",
        "\n",
        "> class_weightdict or ‘balanced’, default=None\n",
        "Set the parameter C of class i to class_weight[i]*C for SVC. If not given, all classes are supposed to have weight one. The “balanced” mode uses the values of y to automatically adjust weights inversely proportional to class frequencies in the input data as n_samples / (n_classes * np.bincount(y)).\n",
        "\n"
      ],
      "metadata": {
        "id": "9eKkUItMxt1i"
      }
    },
    {
      "cell_type": "code",
      "source": [
        "from sklearn.svm import SVC"
      ],
      "metadata": {
        "id": "VupEUtFByYOt"
      },
      "execution_count": null,
      "outputs": []
    },
    {
      "cell_type": "code",
      "source": [
        "svc_model = SVC(kernel=\"linear\", class_weight='balanced')"
      ],
      "metadata": {
        "id": "1yZTCHOwycAu"
      },
      "execution_count": null,
      "outputs": []
    },
    {
      "cell_type": "markdown",
      "source": [
        "**Actividad**: Terminar de entrenar el modelo que se definió en la celda de arriba (va a tardar un rato). Una vez entrenado, realizar las prediciones con `x_test_scaled` y, finalmente, determinar las métricas de evaluación básicas además de la matriz de confusión correspondiente."
      ],
      "metadata": {
        "id": "Un5JE4tB6ANa"
      }
    },
    {
      "cell_type": "code",
      "source": [
        "svc_model.fit(X_train_scaled, y_train)"
      ],
      "metadata": {
        "id": "5jwIVx5MynK-"
      },
      "execution_count": null,
      "outputs": []
    },
    {
      "cell_type": "code",
      "source": [
        "svc_pred = svc_model.predict(x_test_scaled)"
      ],
      "metadata": {
        "id": "n8YC5AnAyq0f"
      },
      "execution_count": null,
      "outputs": []
    },
    {
      "cell_type": "code",
      "source": [
        "# Sus metricas y matriz de confusion, bla bla bla ..."
      ],
      "metadata": {
        "id": "_qW82PXxAmCp"
      },
      "execution_count": null,
      "outputs": []
    }
  ]
}